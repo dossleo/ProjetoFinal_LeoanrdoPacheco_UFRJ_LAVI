{
 "cells": [
  {
   "cell_type": "code",
   "execution_count": 1,
   "metadata": {},
   "outputs": [],
   "source": [
    "from sklearn.model_selection import train_test_split\n",
    "from sklearn.tree import DecisionTreeClassifier\n",
    "from sklearn import svm\n",
    "from sklearn.metrics import accuracy_score, confusion_matrix, classification_report\n",
    "\n",
    "import pandas as pd\n",
    "import matplotlib.pyplot as plt\n",
    "import numpy as np\n",
    "\n",
    "import models\n",
    "from models import normalizar_sinal"
   ]
  },
  {
   "cell_type": "code",
   "execution_count": 2,
   "metadata": {},
   "outputs": [
    {
     "name": "stdout",
     "output_type": "stream",
     "text": [
      "0         0.054711\n",
      "1         0.054711\n",
      "2         0.054711\n",
      "3         0.054711\n",
      "4         0.054711\n",
      "            ...   \n",
      "165355    0.401216\n",
      "165356    0.401216\n",
      "165357    0.401216\n",
      "165358    0.401216\n",
      "165359    0.401216\n",
      "Name: rotacao_hz, Length: 165360, dtype: float64\n",
      "        rotacao_hz    maximo       rms  assimetria   curtose  fator_crista  \\\n",
      "0         0.054711  0.009545  0.021910    0.127253  0.044261      0.054624   \n",
      "1         0.054711  0.009545  0.021947    0.127700  0.044343      0.054511   \n",
      "2         0.054711  0.009545  0.021913    0.128246  0.044655      0.054615   \n",
      "3         0.054711  0.009545  0.021898    0.127376  0.044411      0.054661   \n",
      "4         0.054711  0.009545  0.021906    0.127553  0.044426      0.054637   \n",
      "...            ...       ...       ...         ...       ...           ...   \n",
      "165355    0.401216  0.120000  0.169677    0.019870  0.023770      0.096196   \n",
      "165356    0.401216  0.120000  0.169710    0.020616  0.024080      0.096174   \n",
      "165357    0.401216  0.120000  0.169415    0.022675  0.024260      0.096370   \n",
      "165358    0.401216  0.120000  0.169514    0.023521  0.024359      0.096304   \n",
      "165359    0.401216  0.120000  0.169708    0.022961  0.024292      0.096176   \n",
      "\n",
      "        soma_ball_fault  soma_outer_race  soma_rotacao_hz  \\\n",
      "0              0.002680         0.001916         0.001746   \n",
      "1              0.002767         0.002016         0.001901   \n",
      "2              0.003047         0.002085         0.001917   \n",
      "3              0.002641         0.002123         0.001815   \n",
      "4              0.002602         0.002142         0.001831   \n",
      "...                 ...              ...              ...   \n",
      "165355         0.043860         0.039171         0.277521   \n",
      "165356         0.036424         0.034910         0.279789   \n",
      "165357         0.045257         0.040489         0.280362   \n",
      "165358         0.038529         0.035640         0.283990   \n",
      "165359         0.048023         0.037462         0.283083   \n",
      "\n",
      "        soma_relativa_ball_fault  soma_relativa_outer_race  \\\n",
      "0                       0.009152                  0.006571   \n",
      "1                       0.009377                  0.006858   \n",
      "2                       0.010261                  0.007052   \n",
      "3                       0.008820                  0.007109   \n",
      "4                       0.008636                  0.007128   \n",
      "...                          ...                       ...   \n",
      "165355                  0.025922                  0.023149   \n",
      "165356                  0.021577                  0.020679   \n",
      "165357                  0.026684                  0.023872   \n",
      "165358                  0.022695                  0.020992   \n",
      "165359                  0.027897                  0.021759   \n",
      "\n",
      "        soma_relativa_rotacao_hz  sensor          defeito  \n",
      "0                       0.005995     0.0           normal  \n",
      "1                       0.006470     0.0           normal  \n",
      "2                       0.006491     0.0           normal  \n",
      "3                       0.006091     0.0           normal  \n",
      "4                       0.006104     0.0           normal  \n",
      "...                          ...     ...              ...  \n",
      "165355                  0.164079     1.0  outer_race_alto  \n",
      "165356                  0.165819     1.0  outer_race_alto  \n",
      "165357                  0.165367     1.0  outer_race_alto  \n",
      "165358                  0.167354     1.0  outer_race_alto  \n",
      "165359                  0.164504     1.0  outer_race_alto  \n",
      "\n",
      "[165360 rows x 14 columns]\n"
     ]
    }
   ],
   "source": [
    "# Carrega os dados, ignorando a primeira linha\n",
    "dados_normalizados = 'Dados_Normalizados.csv'\n",
    "dados_extraidos_geral = 'dados_extraidos_geral.csv'\n",
    "dado_sensor = 'dados_extraidos_rolamento_interno_radial1.csv'\n",
    "ordem = 1\n",
    "\n",
    "df = pd.read_csv(f'{models.path_dados_tratados}/ordens_{ordem}/{dados_normalizados}', header=0)\n",
    "# df = pd.DataFrame(df)[models.colunas]\n",
    "# df['defeito'] = df['defeito'].replace(models.sensores)\n",
    "\n",
    "# df['rotacao_hz'] = 10*(df['rotacao_hz']//10)\n",
    "print(df['rotacao_hz'])\n",
    "\n",
    "# df['sensor'] = df['sensor'].replace(models.sensores)\n",
    "\n",
    "df = normalizar_sinal.NormalizarSinal(df,1).Get()\n",
    "df = pd.DataFrame(df)[models.colunas]\n",
    "print(df)\n",
    "# print(df)\n",
    "\n",
    "# Separa as colunas em features e target\n",
    "features = df.drop('defeito', axis=1)\n",
    "target = df['defeito']\n",
    "\n",
    "# Divide os dados em conjuntos de treinamento e teste\n",
    "X_train, X_test, y_train, y_test = train_test_split(features, target, test_size=0.3, random_state=0)\n",
    "# print(X_train)"
   ]
  },
  {
   "cell_type": "code",
   "execution_count": 3,
   "metadata": {},
   "outputs": [
    {
     "name": "stdout",
     "output_type": "stream",
     "text": [
      "0.9507135945815192\n"
     ]
    }
   ],
   "source": [
    " \n",
    "# Treina o classificador\n",
    "clf = DecisionTreeClassifier(max_depth=10000000,random_state=1000)\n",
    "metodo = 'DecisionTree'\n",
    "# clf = svm.SVC()\n",
    "clf.fit(X_train, y_train)\n",
    "\n",
    "# Faz as previsões no conjunto de teste\n",
    "y_pred = clf.predict(X_test)\n",
    "accuracy = accuracy_score(y_test, y_pred)\n",
    "print(accuracy)\n"
   ]
  },
  {
   "cell_type": "code",
   "execution_count": 4,
   "metadata": {},
   "outputs": [
    {
     "data": {
      "image/png": "[encoded data removed]",
      "text/plain": [
       "<Figure size 640x480 with 1 Axes>"
      ]
     },
     "metadata": {},
     "output_type": "display_data"
    },
    {
     "name": "stdout",
     "output_type": "stream",
     "text": [
      "A precisão do classificador é: 95.1 %\n",
      "Relatório de classificação:\n",
      "                                  precision    recall  f1-score   support\n",
      "\n",
      "                ball_fault_alto       0.97      0.98      0.98      2045\n",
      "               ball_fault_baixo       0.99      0.99      0.99      3268\n",
      "               ball_fault_medio       0.98      0.97      0.98      2764\n",
      " desalinhamento_horizontal_alto       0.93      0.93      0.93      1747\n",
      "desalinhamento_horizontal_baixo       0.94      0.93      0.93      1813\n",
      "desalinhamento_horizontal_médio       0.95      0.96      0.95      3426\n",
      "   desalinhamento_vertical_alto       0.92      0.92      0.92      3552\n",
      "  desalinhamento_vertical_baixo       0.93      0.93      0.93      3641\n",
      "  desalinhamento_vertical_médio       0.90      0.91      0.91      3547\n",
      "          desbalanceamento_alto       0.95      0.95      0.95      5105\n",
      "         desbalanceamento_baixo       0.95      0.93      0.94      3444\n",
      "         desbalanceamento_medio       0.94      0.95      0.95      3532\n",
      "                         normal       0.96      0.96      0.96      1754\n",
      "                outer_race_alto       0.98      0.98      0.98      2852\n",
      "               outer_race_baixo       0.97      0.97      0.97      3596\n",
      "               outer_race_medio       0.97      0.97      0.97      3522\n",
      "\n",
      "                       accuracy                           0.95     49608\n",
      "                      macro avg       0.95      0.95      0.95     49608\n",
      "                   weighted avg       0.95      0.95      0.95     49608\n",
      "\n"
     ]
    }
   ],
   "source": [
    "# Visualiza a matriz de confusão\n",
    "cm = confusion_matrix(y_test, y_pred)\n",
    "plt.imshow(cm, cmap=plt.cm.Blues)\n",
    "plt.title(f'Matriz de Confusão - {metodo}')\n",
    "plt.xlabel('Previsão')\n",
    "plt.ylabel('Verdadeiro')\n",
    "plt.xticks(range(len(models.defeitos)-3), range(len(models.defeitos)-3))\n",
    "plt.yticks(range(len(models.defeitos)-3), range(len(models.defeitos)-3))\n",
    "plt.xlim(-0.5,len(models.defeitos)-3.5)\n",
    "plt.ylim(-0.5,len(models.defeitos)-3.5)\n",
    "\n",
    "for i in range(2):\n",
    "    for j in range(2):\n",
    "        plt.text(j, i, cm[i, j], ha='center', va='center', color='red')\n",
    "plt.show()\n",
    "\n",
    "# Imprime as métricas de performance\n",
    "print(\"A precisão do classificador é:\", np.round(100*accuracy_score(y_test, y_pred),1),'%')\n",
    "print(\"Relatório de classificação:\\n\", classification_report(y_test, y_pred))"
   ]
  },
  {
   "cell_type": "code",
   "execution_count": 5,
   "metadata": {},
   "outputs": [
    {
     "name": "stdout",
     "output_type": "stream",
     "text": [
      "Acurácia: 97.86 %\n"
     ]
    }
   ],
   "source": [
    "from sklearn.neighbors import KNeighborsClassifier\n",
    "\n",
    "# Separar as features (X) da coluna \"defeito\" (y)\n",
    "X = df.drop(\"defeito\", axis=1)\n",
    "y = df[\"defeito\"]\n",
    "\n",
    "# Dividir os dados em conjunto de treinamento e teste\n",
    "X_train, X_test, y_train, y_test = train_test_split(X, y, test_size=0.3)\n",
    "\n",
    "\n",
    "# Treinar o modelo KNN\n",
    "knn = KNeighborsClassifier(n_neighbors=3)\n",
    "metodo = 'KNeighbors'\n",
    "knn.fit(X_train, y_train)\n",
    "\n",
    "# Fazer previsões com o conjunto de teste\n",
    "y_pred = knn.predict(X_test)\n",
    "\n",
    "# Avaliar a performance do modelo\n",
    "accuracy = accuracy_score(y_test, y_pred)\n",
    "print(\"Acurácia:\", np.round(100*accuracy,2),'%')\n"
   ]
  },
  {
   "cell_type": "code",
   "execution_count": 6,
   "metadata": {},
   "outputs": [
    {
     "data": {
      "image/png": "[encoded data removed]",
      "text/plain": [
       "<Figure size 640x480 with 1 Axes>"
      ]
     },
     "metadata": {},
     "output_type": "display_data"
    },
    {
     "name": "stdout",
     "output_type": "stream",
     "text": [
      "A precisão do classificador é: 97.86 %\n",
      "Relatório de classificação:\n",
      "                                  precision    recall  f1-score   support\n",
      "\n",
      "                ball_fault_alto       1.00      1.00      1.00      2073\n",
      "               ball_fault_baixo       1.00      1.00      1.00      3270\n",
      "               ball_fault_medio       1.00      1.00      1.00      2771\n",
      " desalinhamento_horizontal_alto       0.96      0.98      0.97      1777\n",
      "desalinhamento_horizontal_baixo       0.96      0.97      0.97      1814\n",
      "desalinhamento_horizontal_médio       0.97      0.98      0.97      3444\n",
      "   desalinhamento_vertical_alto       0.95      0.96      0.96      3611\n",
      "  desalinhamento_vertical_baixo       0.97      0.97      0.97      3563\n",
      "  desalinhamento_vertical_médio       0.96      0.95      0.95      3636\n",
      "          desbalanceamento_alto       0.99      0.99      0.99      5006\n",
      "         desbalanceamento_baixo       0.97      0.96      0.96      3513\n",
      "         desbalanceamento_medio       0.98      0.98      0.98      3521\n",
      "                         normal       0.98      0.97      0.97      1773\n",
      "                outer_race_alto       0.99      0.99      0.99      2796\n",
      "               outer_race_baixo       0.99      0.99      0.99      3481\n",
      "               outer_race_medio       0.99      0.99      0.99      3559\n",
      "\n",
      "                       accuracy                           0.98     49608\n",
      "                      macro avg       0.98      0.98      0.98     49608\n",
      "                   weighted avg       0.98      0.98      0.98     49608\n",
      "\n"
     ]
    }
   ],
   "source": [
    "# Visualiza a matriz de confusão\n",
    "cm = confusion_matrix(y_test, y_pred)\n",
    "plt.imshow(cm, cmap=plt.cm.Blues)\n",
    "plt.title(f'Matriz de Confusão - {metodo}')\n",
    "plt.xlabel('Previsão')\n",
    "plt.ylabel('Verdadeiro')\n",
    "plt.xticks(range(len(models.defeitos)-3), range(len(models.defeitos)-3))\n",
    "plt.yticks(range(len(models.defeitos)-3), range(len(models.defeitos)-3))\n",
    "plt.xlim(-0.5,len(models.defeitos)-3.5)\n",
    "plt.ylim(-0.5,len(models.defeitos)-3.5)\n",
    "\n",
    "for i in range(2):\n",
    "    for j in range(2):\n",
    "        plt.text(j, i, cm[i, j], ha='center', va='center', color='red')\n",
    "plt.show()\n",
    "\n",
    "# Imprime as métricas de performance\n",
    "print(\"A precisão do classificador é:\", np.round(100*accuracy_score(y_test, y_pred),2),'%')\n",
    "print(\"Relatório de classificação:\\n\", classification_report(y_test, y_pred))"
   ]
  }
 ],
 "metadata": {
  "kernelspec": {
   "display_name": ".venv",
   "language": "python",
   "name": "python3"
  },
  "language_info": {
   "codemirror_mode": {
    "name": "ipython",
    "version": 3
   },
   "file_extension": ".py",
   "mimetype": "text/x-python",
   "name": "python",
   "nbconvert_exporter": "python",
   "pygments_lexer": "ipython3",
   "version": "3.10.5"
  },
  "orig_nbformat": 4,
  "vscode": {
   "interpreter": {
    "hash": "7ae7d46be2641d6e2c6d3fb52459160c7ebfdbc26f33f0f4d78b2d35162b5186"
   }
  }
 },
 "nbformat": 4,
 "nbformat_minor": 2
}
