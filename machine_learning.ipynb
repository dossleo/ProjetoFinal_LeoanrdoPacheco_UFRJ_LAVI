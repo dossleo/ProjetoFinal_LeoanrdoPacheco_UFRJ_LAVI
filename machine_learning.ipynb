{
 "cells": [
  {
   "cell_type": "code",
   "execution_count": 1,
   "metadata": {},
   "outputs": [],
   "source": [
    "from sklearn.model_selection import train_test_split\n",
    "from sklearn.tree import DecisionTreeClassifier\n",
    "from sklearn import svm\n",
    "from sklearn.metrics import accuracy_score, confusion_matrix, classification_report\n",
    "\n",
    "import pandas as pd\n",
    "import matplotlib.pyplot as plt\n",
    "import numpy as np\n",
    "\n",
    "import models\n",
    "from models import normalizar_sinal"
   ]
  },
  {
   "cell_type": "code",
   "execution_count": 2,
   "metadata": {},
   "outputs": [
    {
     "name": "stdout",
     "output_type": "stream",
     "text": [
      "0        0.054711\n",
      "1        0.054711\n",
      "2        0.054711\n",
      "3        0.054711\n",
      "4        0.054711\n",
      "           ...   \n",
      "77163    0.401216\n",
      "77164    0.401216\n",
      "77165    0.401216\n",
      "77166    0.401216\n",
      "77167    0.401216\n",
      "Name: rotacao_hz, Length: 77168, dtype: float64\n",
      "       rotacao_hz    maximo       rms  assimetria   curtose  fator_crista  \\\n",
      "0        0.054711  0.009486  0.021926    0.129497  0.054829      0.041469   \n",
      "1        0.054711  0.009486  0.021918    0.129078  0.054989      0.041494   \n",
      "2        0.054711  0.010020  0.021929    0.130192  0.055765      0.045112   \n",
      "3        0.054711  0.010020  0.021941    0.130072  0.055856      0.045076   \n",
      "4        0.054711  0.010020  0.021947    0.130561  0.055848      0.045053   \n",
      "...           ...       ...       ...         ...       ...           ...   \n",
      "77163    0.401216  0.118634  0.170735    0.020656  0.028296      0.081621   \n",
      "77164    0.401216  0.119948  0.170627    0.020466  0.028511      0.082934   \n",
      "77165    0.401216  0.119948  0.170077    0.022143  0.028921      0.083300   \n",
      "77166    0.401216  0.119948  0.170330    0.021797  0.028979      0.083131   \n",
      "77167    0.401216  0.119948  0.170208    0.023576  0.029181      0.083212   \n",
      "\n",
      "       soma_ball_fault  soma_outer_race  soma_rotacao_hz  \\\n",
      "0             0.005284         0.004297         0.005881   \n",
      "1             0.005352         0.004359         0.005967   \n",
      "2             0.005802         0.004967         0.006344   \n",
      "3             0.005729         0.004697         0.006366   \n",
      "4             0.005739         0.004962         0.006475   \n",
      "...                ...              ...              ...   \n",
      "77163         0.078347         0.068720         0.269727   \n",
      "77164         0.076982         0.067108         0.263865   \n",
      "77165         0.066759         0.066046         0.250907   \n",
      "77166         0.074364         0.067613         0.251818   \n",
      "77167         0.074455         0.067867         0.246349   \n",
      "\n",
      "       soma_relativa_ball_fault  soma_relativa_outer_race  \\\n",
      "0                      0.015878                  0.013042   \n",
      "1                      0.016098                  0.013242   \n",
      "2                      0.017339                  0.014946   \n",
      "3                      0.017140                  0.014179   \n",
      "4                      0.017171                  0.014940   \n",
      "...                         ...                       ...   \n",
      "77163                  0.042390                  0.037179   \n",
      "77164                  0.041433                  0.036117   \n",
      "77165                  0.036535                  0.036144   \n",
      "77166                  0.040161                  0.036514   \n",
      "77167                  0.040371                  0.036798   \n",
      "\n",
      "       soma_relativa_rotacao_hz  sensor          defeito  \n",
      "0                      0.017595     0.0           normal  \n",
      "1                      0.017868     0.0           normal  \n",
      "2                      0.018896     0.0           normal  \n",
      "3                      0.018967     0.0           normal  \n",
      "4                      0.019284     0.0           normal  \n",
      "...                         ...     ...              ...  \n",
      "77163                  0.145961     1.0  outer_race_alto  \n",
      "77164                  0.142045     1.0  outer_race_alto  \n",
      "77165                  0.137336     1.0  outer_race_alto  \n",
      "77166                  0.136023     1.0  outer_race_alto  \n",
      "77167                  0.133600     1.0  outer_race_alto  \n",
      "\n",
      "[77168 rows x 14 columns]\n"
     ]
    }
   ],
   "source": [
    "# Carrega os dados, ignorando a primeira linha\n",
    "dados_normalizados = 'Dados_Normalizados.csv'\n",
    "dados_extraidos_geral = 'dados_extraidos_geral.csv'\n",
    "dado_sensor = 'dados_extraidos_rolamento_interno_radial1.csv'\n",
    "ordem = 3\n",
    "pasta = f'{models.path_dados_tratados}/ordens_{ordem}/{dados_normalizados}'\n",
    "df = pd.read_csv(pasta, header=0)\n",
    "# df = pd.DataFrame(df)[models.colunas]\n",
    "# df['defeito'] = df['defeito'].replace(models.sensores)\n",
    "\n",
    "# df['rotacao_hz'] = 10*(df['rotacao_hz']//10)\n",
    "print(df['rotacao_hz'])\n",
    "\n",
    "# df['sensor'] = df['sensor'].replace(models.sensores)\n",
    "\n",
    "df = normalizar_sinal.NormalizarSinal(df,1).Get()\n",
    "df = pd.DataFrame(df)[models.colunas]\n",
    "print(df)\n",
    "# print(df)\n",
    "\n",
    "# Separa as colunas em features e target\n",
    "features = df.drop('defeito', axis=1)\n",
    "target = df['defeito']\n",
    "\n",
    "# Divide os dados em conjuntos de treinamento e teste\n",
    "X_train, X_test, y_train, y_test = train_test_split(features, target, test_size=0.3, random_state=0)\n",
    "# print(X_train)"
   ]
  },
  {
   "cell_type": "code",
   "execution_count": 3,
   "metadata": {},
   "outputs": [
    {
     "name": "stdout",
     "output_type": "stream",
     "text": [
      "0.9433285819187076\n"
     ]
    }
   ],
   "source": [
    " \n",
    "# Treina o classificador\n",
    "clf = DecisionTreeClassifier(max_depth=10000000,random_state=1000)\n",
    "metodo = 'DecisionTree'\n",
    "# clf = svm.SVC()\n",
    "clf.fit(X_train, y_train)\n",
    "\n",
    "# Faz as previsões no conjunto de teste\n",
    "y_pred = clf.predict(X_test)\n",
    "accuracy = accuracy_score(y_test, y_pred)\n",
    "print(accuracy)\n"
   ]
  },
  {
   "cell_type": "code",
   "execution_count": 4,
   "metadata": {},
   "outputs": [
    {
     "data": {
      "image/png": "[encoded data removed]",
      "text/plain": [
       "<Figure size 640x480 with 1 Axes>"
      ]
     },
     "metadata": {},
     "output_type": "display_data"
    },
    {
     "name": "stdout",
     "output_type": "stream",
     "text": [
      "A precisão do classificador é: 94.3 %\n",
      "Relatório de classificação:\n",
      "                                  precision    recall  f1-score   support\n",
      "\n",
      "                ball_fault_alto       0.98      0.98      0.98       963\n",
      "               ball_fault_baixo       0.98      0.98      0.98      1622\n",
      "               ball_fault_medio       0.97      0.97      0.97      1214\n",
      " desalinhamento_horizontal_alto       0.92      0.91      0.91       807\n",
      "desalinhamento_horizontal_baixo       0.93      0.94      0.93       807\n",
      "desalinhamento_horizontal_médio       0.95      0.96      0.95      1645\n",
      "   desalinhamento_vertical_alto       0.90      0.89      0.90      1623\n",
      "  desalinhamento_vertical_baixo       0.92      0.93      0.92      1646\n",
      "  desalinhamento_vertical_médio       0.89      0.90      0.90      1615\n",
      "          desbalanceamento_alto       0.95      0.94      0.94      2370\n",
      "         desbalanceamento_baixo       0.93      0.93      0.93      1653\n",
      "         desbalanceamento_medio       0.93      0.94      0.94      1659\n",
      "                         normal       0.97      0.96      0.96       816\n",
      "                outer_race_alto       0.97      0.95      0.96      1377\n",
      "               outer_race_baixo       0.97      0.96      0.96      1656\n",
      "               outer_race_medio       0.97      0.97      0.97      1678\n",
      "\n",
      "                       accuracy                           0.94     23151\n",
      "                      macro avg       0.94      0.94      0.94     23151\n",
      "                   weighted avg       0.94      0.94      0.94     23151\n",
      "\n"
     ]
    }
   ],
   "source": [
    "# Visualiza a matriz de confusão\n",
    "cm = confusion_matrix(y_test, y_pred)\n",
    "plt.imshow(cm, cmap=plt.cm.Blues)\n",
    "plt.title(f'Matriz de Confusão - {metodo}')\n",
    "plt.xlabel('Previsão')\n",
    "plt.ylabel('Verdadeiro')\n",
    "plt.xticks(range(len(models.defeitos)-3), range(len(models.defeitos)-3))\n",
    "plt.yticks(range(len(models.defeitos)-3), range(len(models.defeitos)-3))\n",
    "plt.xlim(-0.5,len(models.defeitos)-3.5)\n",
    "plt.ylim(-0.5,len(models.defeitos)-3.5)\n",
    "\n",
    "for i in range(2):\n",
    "    for j in range(2):\n",
    "        plt.text(j, i, cm[i, j], ha='center', va='center', color='red')\n",
    "plt.show()\n",
    "\n",
    "# Imprime as métricas de performance\n",
    "print(\"A precisão do classificador é:\", np.round(100*accuracy_score(y_test, y_pred),1),'%')\n",
    "print(\"Relatório de classificação:\\n\", classification_report(y_test, y_pred))"
   ]
  },
  {
   "cell_type": "code",
   "execution_count": 5,
   "metadata": {},
   "outputs": [
    {
     "name": "stdout",
     "output_type": "stream",
     "text": [
      "Acurácia: 98.29 %\n"
     ]
    }
   ],
   "source": [
    "from sklearn.neighbors import KNeighborsClassifier\n",
    "\n",
    "# Separar as features (X) da coluna \"defeito\" (y)\n",
    "X = df.drop(\"defeito\", axis=1)\n",
    "y = df[\"defeito\"]\n",
    "\n",
    "# Dividir os dados em conjunto de treinamento e teste\n",
    "X_train, X_test, y_train, y_test = train_test_split(X, y, test_size=0.3)\n",
    "\n",
    "\n",
    "# Treinar o modelo KNN\n",
    "knn = KNeighborsClassifier(n_neighbors=3)\n",
    "metodo = 'KNeighbors'\n",
    "knn.fit(X_train, y_train)\n",
    "\n",
    "# Fazer previsões com o conjunto de teste\n",
    "y_pred = knn.predict(X_test)\n",
    "\n",
    "# Avaliar a performance do modelo\n",
    "accuracy = accuracy_score(y_test, y_pred)\n",
    "print(\"Acurácia:\", np.round(100*accuracy,2),'%')\n"
   ]
  },
  {
   "cell_type": "code",
   "execution_count": 6,
   "metadata": {},
   "outputs": [
    {
     "data": {
      "image/png": "[encoded data removed]",
      "text/plain": [
       "<Figure size 640x480 with 1 Axes>"
      ]
     },
     "metadata": {},
     "output_type": "display_data"
    },
    {
     "name": "stdout",
     "output_type": "stream",
     "text": [
      "A precisão do classificador é: 98.29 %\n",
      "Relatório de classificação:\n",
      "                                  precision    recall  f1-score   support\n",
      "\n",
      "                ball_fault_alto       0.99      1.00      0.99       956\n",
      "               ball_fault_baixo       1.00      1.00      1.00      1538\n",
      "               ball_fault_medio       1.00      1.00      1.00      1255\n",
      " desalinhamento_horizontal_alto       0.96      0.98      0.97       848\n",
      "desalinhamento_horizontal_baixo       0.98      0.99      0.99       862\n",
      "desalinhamento_horizontal_médio       0.99      0.99      0.99      1676\n",
      "   desalinhamento_vertical_alto       0.96      0.98      0.97      1698\n",
      "  desalinhamento_vertical_baixo       0.98      0.95      0.96      1732\n",
      "  desalinhamento_vertical_médio       0.96      0.95      0.96      1630\n",
      "          desbalanceamento_alto       0.99      0.99      0.99      2331\n",
      "         desbalanceamento_baixo       0.98      0.98      0.98      1631\n",
      "         desbalanceamento_medio       0.98      0.98      0.98      1610\n",
      "                         normal       0.99      0.98      0.99       803\n",
      "                outer_race_alto       1.00      0.99      0.99      1294\n",
      "               outer_race_baixo       1.00      0.99      0.99      1618\n",
      "               outer_race_medio       0.99      0.99      0.99      1669\n",
      "\n",
      "                       accuracy                           0.98     23151\n",
      "                      macro avg       0.98      0.98      0.98     23151\n",
      "                   weighted avg       0.98      0.98      0.98     23151\n",
      "\n"
     ]
    }
   ],
   "source": [
    "# Visualiza a matriz de confusão\n",
    "cm = confusion_matrix(y_test, y_pred)\n",
    "plt.imshow(cm, cmap=plt.cm.Blues)\n",
    "plt.title(f'Matriz de Confusão - {metodo}')\n",
    "plt.xlabel('Previsão')\n",
    "plt.ylabel('Verdadeiro')\n",
    "plt.xticks(range(len(models.defeitos)-3), range(len(models.defeitos)-3))\n",
    "plt.yticks(range(len(models.defeitos)-3), range(len(models.defeitos)-3))\n",
    "plt.xlim(-0.5,len(models.defeitos)-3.5)\n",
    "plt.ylim(-0.5,len(models.defeitos)-3.5)\n",
    "\n",
    "for i in range(2):\n",
    "    for j in range(2):\n",
    "        plt.text(j, i, cm[i, j], ha='center', va='center', color='red')\n",
    "plt.show()\n",
    "\n",
    "# Imprime as métricas de performance\n",
    "print(\"A precisão do classificador é:\", np.round(100*accuracy_score(y_test, y_pred),2),'%')\n",
    "print(\"Relatório de classificação:\\n\", classification_report(y_test, y_pred))"
   ]
  },
  {
   "cell_type": "code",
   "execution_count": null,
   "metadata": {},
   "outputs": [],
   "source": [
    "from sklearn.ensemble import RandomForestClassifier\n",
    "from sklearn.naive_bayes import GaussianNB\n",
    "from sklearn.neighbors import KNeighborsClassifier\n",
    "from sklearn.svm import SVC, NuSVC\n",
    "from sklearn.tree import DecisionTreeClassifier\n",
    "\n",
    "from models import ml_functions, get_raw_data"
   ]
  },
  {
   "cell_type": "code",
   "execution_count": null,
   "metadata": {},
   "outputs": [],
   "source": [
    "def main():\n",
    "    # Criando as entradas\n",
    "    df_data = get_raw_data.GetData(pasta,arquivo).GetDataframe()\n",
    "\n",
    "    # Executa a predição\n",
    "    classifier = ml_functions.Classifier(data = df_data, classifier=RandomForestClassifier, random_state = models.seed)\n",
    "    classifier.visualizar()\n",
    "    # classifier.run()\n",
    "    # score[f\"{classifier.classifier.__class__.__name__}\"] = round(classifier.score * 100,2)\n",
    "    # PostProcessing(classifier, method_name = classifier.classifier.__class__.__name__).plot_confusion_matrix()\n",
    "\n",
    "    # classifier = ml_functions.Classifier(data = df_data, classifier=KNeighborsClassifier)\n",
    "    # classifier.run()\n",
    "    # score[f\"{classifier.classifier.__class__.__name__}\"] = round(classifier.score * 100,2)\n",
    "    # PostProcessing(classifier, method_name = classifier.classifier.__class__.__name__).plot_confusion_matrix()\n",
    "\n",
    "    # classifier = ml_functions.Classifier(data = df_data, classifier=SVC, random_state = models.seed)\n",
    "    # classifier.run()\n",
    "    # score[f\"{classifier.classifier.__class__.__name__}\"] = round(classifier.score * 100,2)\n",
    "    # PostProcessing(classifier, method_name = classifier.classifier.__class__.__name__).plot_confusion_matrix()\n",
    "\n",
    "    # classifier = ml_functions.Classifier(data = df_data, classifier=GaussianNB)\n",
    "    # classifier.run()\n",
    "    # score[f\"{classifier.classifier.__class__.__name__}\"] = round(classifier.score * 100,2)\n",
    "    # PostProcessing(classifier, method_name = classifier.classifier.__class__.__name__).plot_confusion_matrix()\n",
    "\n",
    "    # classifier = ml_functions.Classifier(data = df_data, classifier=NuSVC, random_state = models.seed)\n",
    "    # classifier.run()\n",
    "    # score[f\"{classifier.classifier.__class__.__name__}\"] = round(classifier.score * 100,2)\n",
    "    # PostProcessing(classifier, method_name = classifier.classifier.__class__.__name__).plot_confusion_matrix()\n",
    "\n",
    "    # classifier = ml_functions.Classifier(data = df_data, classifier=DecisionTreeClassifier, criterion = \"entropy\")\n",
    "    # classifier.run()\n",
    "    # score[f\"{classifier.classifier.__class__.__name__}, \"] = round(classifier.score * 100,2)\n",
    "    # post_processing = PostProcessing(classifier, method_name = classifier.classifier.__class__.__name__)\n",
    "    # post_processing.plot_confusion_matrix()\n",
    "\n",
    "    # try:\n",
    "    #     post_processing.plot_decision_tree()\n",
    "    # except:\n",
    "    #     print(\"Error: Grahpviz not found\")\n",
    "    #     print(\"The system not found graphviz software. Please install graphviz from http://www.graphviz.org/download/\")\n",
    "\n",
    "    # PostProcessing.plot_score(score)\n",
    "\n",
    "    # return score\n",
    "\n",
    "if __name__ == \"__main__\":\n",
    "    main()"
   ]
  }
 ],
 "metadata": {
  "kernelspec": {
   "display_name": ".venv",
   "language": "python",
   "name": "python3"
  },
  "language_info": {
   "codemirror_mode": {
    "name": "ipython",
    "version": 3
   },
   "file_extension": ".py",
   "mimetype": "text/x-python",
   "name": "python",
   "nbconvert_exporter": "python",
   "pygments_lexer": "ipython3",
   "version": "3.10.5"
  },
  "orig_nbformat": 4,
  "vscode": {
   "interpreter": {
    "hash": "7ae7d46be2641d6e2c6d3fb52459160c7ebfdbc26f33f0f4d78b2d35162b5186"
   }
  }
 },
 "nbformat": 4,
 "nbformat_minor": 2
}
