{
 "cells": [
  {
   "cell_type": "code",
   "execution_count": 66,
   "metadata": {},
   "outputs": [],
   "source": [
    "import pandas as pd\n",
    "from sklearn.model_selection import train_test_split\n",
    "from sklearn.tree import DecisionTreeClassifier\n",
    "from sklearn.metrics import accuracy_score\n",
    "import models"
   ]
  },
  {
   "cell_type": "code",
   "execution_count": 67,
   "metadata": {},
   "outputs": [],
   "source": [
    "# Carrega os dados, ignorando a primeira linha\n",
    "df = pd.read_csv(f'{models.path_dados_tratados}/ordens_2/Dados_Normalizados.csv', header=0)\n",
    "df = pd.DataFrame(df)[models.colunas]\n",
    "\n",
    "df['sensor'] = df['sensor'].replace(models.sensores)\n",
    "\n",
    "# Separa as colunas em features e target\n",
    "features = df.drop('defeito', axis=1)\n",
    "target = df['defeito']\n",
    "\n",
    "# Divide os dados em conjuntos de treinamento e teste\n",
    "X_train, X_test, y_train, y_test = train_test_split(features, target, test_size=0.2, random_state=0)"
   ]
  },
  {
   "cell_type": "code",
   "execution_count": 68,
   "metadata": {},
   "outputs": [
    {
     "name": "stdout",
     "output_type": "stream",
     "text": [
      "A precisão do classificador é: 0.9060431347426863\n"
     ]
    }
   ],
   "source": [
    "# Treina o classificador\n",
    "clf = DecisionTreeClassifier()\n",
    "clf.fit(X_train, y_train)\n",
    "\n",
    "# Faz as previsões no conjunto de teste\n",
    "y_pred = clf.predict(X_test)\n",
    "\n",
    "# Avalia a precisão do classificador\n",
    "acc = accuracy_score(y_test, y_pred)\n",
    "print(\"A precisão do classificador é:\", acc)"
   ]
  },
  {
   "cell_type": "code",
   "execution_count": 69,
   "metadata": {},
   "outputs": [],
   "source": [
    "import tensorflow as tf\n",
    "\n",
    "class NeuralNetworkClassifier:\n",
    "    def __init__(self, hidden_layer_sizes, classifier_type):\n",
    "        # Guarda o número de neurônios para cada camada oculta\n",
    "        self.hidden_layer_sizes = hidden_layer_sizes\n",
    "        # Guarda o tipo de classificador que será usado (binário ou multiclasse)\n",
    "        self.classifier_type = classifier_type\n",
    "\n",
    "    def build_model(self, input_shape, num_classes):\n",
    "        # Cria uma rede neural sequencial\n",
    "        model = tf.keras.Sequential()\n",
    "        # Adiciona uma camada de achatamento para formar a entrada para a rede\n",
    "        model.add(tf.keras.layers.Flatten(input_shape=input_shape))\n",
    "        \n",
    "        # Loop para adicionar as camadas ocultas com os tamanhos especificados\n",
    "        for size in self.hidden_layer_sizes:\n",
    "            model.add(tf.keras.layers.Dense(size, activation='relu'))\n",
    "        \n",
    "        # Dependendo do tipo de classificador, adiciona a camada de saída adequada\n",
    "        if self.classifier_type == 'binary':\n",
    "            model.add(tf.keras.layers.Dense(1, activation='sigmoid'))\n",
    "            model.compile(optimizer='adam', loss='binary_crossentropy', metrics=['accuracy'])\n",
    "        else:\n",
    "            model.add(tf.keras.layers.Dense(num_classes, activation='softmax'))\n",
    "            model.compile(optimizer='adam', loss='sparse_categorical_crossentropy', metrics=['accuracy'])\n",
    "        \n",
    "        # Retorna o modelo construído\n",
    "        return model\n"
   ]
  },
  {
   "cell_type": "code",
   "execution_count": 70,
   "metadata": {},
   "outputs": [
    {
     "data": {
      "image/png": "[encoded data removed]",
      "text/plain": [
       "<Figure size 640x480 with 1 Axes>"
      ]
     },
     "metadata": {},
     "output_type": "display_data"
    },
    {
     "name": "stdout",
     "output_type": "stream",
     "text": [
      "A precisão do classificador é: 0.9064702114029468\n",
      "Relatório de classificação:\n",
      "                                  precision    recall  f1-score   support\n",
      "\n",
      "                ball_fault_alto       0.97      0.96      0.96       345\n",
      "               ball_fault_baixo       0.94      0.93      0.94       245\n",
      "               ball_fault_medio       0.93      0.93      0.93       212\n",
      "                cage_fault_alto       0.91      0.94      0.92       421\n",
      "               cage_fault_baixo       0.88      0.94      0.91       231\n",
      "               cage_fault_medio       0.97      0.85      0.90       247\n",
      " desalinhamento_horizontal_alto       0.87      0.90      0.89       123\n",
      "desalinhamento_horizontal_baixo       0.89      0.87      0.88       109\n",
      "desalinhamento_horizontal_médio       0.91      0.89      0.90       246\n",
      "   desalinhamento_vertical_alto       0.89      0.93      0.91       227\n",
      "  desalinhamento_vertical_baixo       0.88      0.92      0.90       218\n",
      "  desalinhamento_vertical_médio       0.91      0.86      0.89       243\n",
      "          desbalanceamento_alto       0.89      0.92      0.90       327\n",
      "         desbalanceamento_baixo       0.85      0.85      0.85       246\n",
      "         desbalanceamento_medio       0.86      0.87      0.87       249\n",
      "                         normal       0.89      0.93      0.91       107\n",
      "                outer_race_alto       0.93      0.91      0.92       417\n",
      "               outer_race_baixo       0.93      0.90      0.92       242\n",
      "               outer_race_medio       0.87      0.86      0.86       228\n",
      "\n",
      "                       accuracy                           0.91      4683\n",
      "                      macro avg       0.90      0.90      0.90      4683\n",
      "                   weighted avg       0.91      0.91      0.91      4683\n",
      "\n"
     ]
    }
   ],
   "source": [
    "import pandas as pd\n",
    "import matplotlib.pyplot as plt\n",
    "from sklearn.model_selection import train_test_split\n",
    "from sklearn.tree import DecisionTreeClassifier\n",
    "from  sklearn import svm\n",
    "from sklearn.metrics import accuracy_score, confusion_matrix, classification_report\n",
    "import models\n",
    "\n",
    "# Carrega os dados\n",
    "df = df\n",
    "\n",
    "# Separa as colunas em features e target\n",
    "features = df.drop('defeito', axis=1)\n",
    "target = df['defeito']\n",
    "\n",
    "# Divide os dados em conjuntos de treinamento e teste\n",
    "X_train, X_test, y_train, y_test = train_test_split(features, target, test_size=0.2, random_state=0)\n",
    "\n",
    "# Treina o classificador\n",
    "clf = DecisionTreeClassifier()\n",
    "clf.fit(X_train, y_train)\n",
    "\n",
    "# Faz as previsões no conjunto de teste\n",
    "y_pred = clf.predict(X_test)\n",
    "\n",
    "# Visualiza a matriz de confusão\n",
    "cm = confusion_matrix(y_test, y_pred)\n",
    "plt.imshow(cm, cmap=plt.cm.Blues)\n",
    "plt.title('Matriz de Confusão')\n",
    "plt.xlabel('Previsão')\n",
    "plt.ylabel('Verdadeiro')\n",
    "plt.xticks(range(len(models.defeitos)), range(len(models.defeitos)))\n",
    "plt.yticks(range(len(models.defeitos)), range(len(models.defeitos)))\n",
    "for i in range(2):\n",
    "    for j in range(2):\n",
    "        plt.text(j, i, cm[i, j], ha='center', va='center', color='red')\n",
    "plt.show()\n",
    "\n",
    "# Imprime as métricas de performance\n",
    "print(\"A precisão do classificador é:\", accuracy_score(y_test, y_pred))\n",
    "print(\"Relatório de classificação:\\n\", classification_report(y_test, y_pred))\n"
   ]
  }
 ],
 "metadata": {
  "kernelspec": {
   "display_name": ".venv",
   "language": "python",
   "name": "python3"
  },
  "language_info": {
   "codemirror_mode": {
    "name": "ipython",
    "version": 3
   },
   "file_extension": ".py",
   "mimetype": "text/x-python",
   "name": "python",
   "nbconvert_exporter": "python",
   "pygments_lexer": "ipython3",
   "version": "3.10.5"
  },
  "orig_nbformat": 4,
  "vscode": {
   "interpreter": {
    "hash": "7ae7d46be2641d6e2c6d3fb52459160c7ebfdbc26f33f0f4d78b2d35162b5186"
   }
  }
 },
 "nbformat": 4,
 "nbformat_minor": 2
}
