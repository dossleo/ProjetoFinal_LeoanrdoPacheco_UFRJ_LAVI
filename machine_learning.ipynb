{
 "cells": [
  {
   "cell_type": "code",
   "execution_count": 1,
   "metadata": {},
   "outputs": [],
   "source": [
    "from sklearn.model_selection import train_test_split\n",
    "from sklearn.tree import DecisionTreeClassifier\n",
    "from sklearn import svm\n",
    "from sklearn.metrics import accuracy_score, confusion_matrix, classification_report\n",
    "\n",
    "import pandas as pd\n",
    "import matplotlib.pyplot as plt\n",
    "import numpy as np\n",
    "\n",
    "import models\n",
    "from models import normalizar_sinal"
   ]
  },
  {
   "cell_type": "code",
   "execution_count": 2,
   "metadata": {},
   "outputs": [
    {
     "name": "stdout",
     "output_type": "stream",
     "text": [
      "0       10.0\n",
      "1       10.0\n",
      "2       10.0\n",
      "3       10.0\n",
      "4       10.0\n",
      "        ... \n",
      "1946    40.0\n",
      "1947    40.0\n",
      "1948    40.0\n",
      "1949    40.0\n",
      "1950    40.0\n",
      "Name: rotacao_hz, Length: 1951, dtype: float64\n",
      "      rotacao_hz    maximo       rms  assimetria   curtose  fator_crista  \\\n",
      "0       0.000000  0.002950  0.018617    0.306947  0.012859      0.036409   \n",
      "1       0.000000  0.002533  0.018850    0.314447  0.014490      0.027295   \n",
      "2       0.000000  0.002594  0.018497    0.308163  0.015140      0.030579   \n",
      "3       0.000000  0.003430  0.018877    0.314768  0.015673      0.043581   \n",
      "4       0.000000  0.003552  0.020776    0.327208  0.017793      0.033994   \n",
      "...          ...       ...       ...         ...       ...           ...   \n",
      "1946    0.666667  0.138160  0.202460    0.075377  0.009737      0.244490   \n",
      "1947    0.666667  0.149438  0.206900    0.076552  0.010040      0.267928   \n",
      "1948    0.666667  0.147145  0.211470    0.057773  0.009674      0.252557   \n",
      "1949    0.666667  0.155186  0.216704    0.073829  0.012857      0.264603   \n",
      "1950    0.666667  0.229774  0.285234    0.130030  0.014753      0.319394   \n",
      "\n",
      "      soma_relativa_ball_fault  soma_relativa_cage_fault  \\\n",
      "0                     0.000738                  0.001929   \n",
      "1                     0.001513                  0.003147   \n",
      "2                     0.000466                  0.003586   \n",
      "3                     0.001076                  0.001986   \n",
      "4                     0.001022                  0.002613   \n",
      "...                        ...                       ...   \n",
      "1946                  0.006725                  0.005622   \n",
      "1947                  0.005729                  0.003732   \n",
      "1948                  0.001545                  0.001901   \n",
      "1949                  0.006613                  0.005812   \n",
      "1950                  0.000696                  0.000484   \n",
      "\n",
      "      soma_relativa_outer_race  soma_relativa_inner_race  \\\n",
      "0                     0.005780                  0.006942   \n",
      "1                     0.004332                  0.006580   \n",
      "2                     0.003674                  0.008057   \n",
      "3                     0.003983                  0.007237   \n",
      "4                     0.003242                  0.006333   \n",
      "...                        ...                       ...   \n",
      "1946                  0.032284                  0.040191   \n",
      "1947                  0.036198                  0.112212   \n",
      "1948                  0.036197                  0.093142   \n",
      "1949                  0.040765                  0.128634   \n",
      "1950                  0.001230                  0.022363   \n",
      "\n",
      "      soma_relativa_rotacao_hz          defeito  \n",
      "0                     0.006631           normal  \n",
      "1                     0.006139           normal  \n",
      "2                     0.007099           normal  \n",
      "3                     0.007000           normal  \n",
      "4                     0.006681           normal  \n",
      "...                        ...              ...  \n",
      "1946                  0.666772  outer_race_alto  \n",
      "1947                  0.751426  outer_race_alto  \n",
      "1948                  0.466718  outer_race_alto  \n",
      "1949                  0.647714  outer_race_alto  \n",
      "1950                  0.001267  outer_race_alto  \n",
      "\n",
      "[1951 rows x 12 columns]\n"
     ]
    }
   ],
   "source": [
    "# Carrega os dados, ignorando a primeira linha\n",
    "dados_normalizados = 'Dados_Normalizados.csv'\n",
    "dados_extraidos_geral = 'dados_extraidos_geral.csv'\n",
    "dado_sensor = 'dados_extraidos_rolamento_interno_radial1.csv'\n",
    "ordem = 1\n",
    "\n",
    "df = pd.read_csv(f'{models.path_dados_tratados}/ordens_{ordem}/{dado_sensor}', header=0)\n",
    "df = pd.DataFrame(df)[models.colunas]\n",
    "df['defeito'] = df['defeito'].replace(models.sensores)\n",
    "\n",
    "df['rotacao_hz'] = 10*(df['rotacao_hz']//10)\n",
    "print(df['rotacao_hz'])\n",
    "\n",
    "# df['sensor'] = df['sensor'].replace(models.sensores)\n",
    "\n",
    "df = normalizar_sinal.NormalizarSinal(df,1).Get()\n",
    "df = pd.DataFrame(df)[models.colunas]\n",
    "print(df)\n",
    "# print(df)\n",
    "\n",
    "# Separa as colunas em features e target\n",
    "features = df.drop('defeito', axis=1)\n",
    "target = df['defeito']\n",
    "\n",
    "# Divide os dados em conjuntos de treinamento e teste\n",
    "X_train, X_test, y_train, y_test = train_test_split(features, target, test_size=0.2, random_state=0)\n",
    "# print(X_train)"
   ]
  },
  {
   "cell_type": "code",
   "execution_count": 8,
   "metadata": {},
   "outputs": [
    {
     "name": "stdout",
     "output_type": "stream",
     "text": [
      "0.5677749360613811\n"
     ]
    }
   ],
   "source": [
    " \n",
    "# Treina o classificador\n",
    "clf = DecisionTreeClassifier(max_depth=10000000,random_state=1000)\n",
    "metodo = 'DecisionTree'\n",
    "# clf = svm.SVC()\n",
    "clf.fit(X_train, y_train)\n",
    "\n",
    "# Faz as previsões no conjunto de teste\n",
    "y_pred = clf.predict(X_test)\n",
    "accuracy = accuracy_score(y_test, y_pred)\n",
    "print(accuracy)\n"
   ]
  },
  {
   "cell_type": "code",
   "execution_count": 9,
   "metadata": {},
   "outputs": [
    {
     "data": {
      "image/png": "[encoded data removed]",
      "text/plain": [
       "<Figure size 640x480 with 1 Axes>"
      ]
     },
     "metadata": {},
     "output_type": "display_data"
    },
    {
     "name": "stdout",
     "output_type": "stream",
     "text": [
      "A precisão do classificador é: 56.8 %\n",
      "Relatório de classificação:\n",
      "                                  precision    recall  f1-score   support\n",
      "\n",
      "                ball_fault_alto       0.79      0.86      0.83        22\n",
      "               ball_fault_baixo       0.73      0.80      0.76        20\n",
      "               ball_fault_medio       0.47      0.47      0.47        15\n",
      "                cage_fault_alto       0.63      0.40      0.49        43\n",
      "               cage_fault_baixo       0.63      0.73      0.68        26\n",
      "               cage_fault_medio       0.73      0.44      0.55        25\n",
      " desalinhamento_horizontal_alto       0.56      0.50      0.53        10\n",
      "desalinhamento_horizontal_baixo       0.44      0.44      0.44         9\n",
      "desalinhamento_horizontal_médio       0.42      0.57      0.48        14\n",
      "   desalinhamento_vertical_alto       0.71      0.75      0.73        20\n",
      "  desalinhamento_vertical_baixo       0.71      0.65      0.68        23\n",
      "  desalinhamento_vertical_médio       0.62      0.71      0.67        14\n",
      "          desbalanceamento_alto       0.57      0.41      0.48        29\n",
      "         desbalanceamento_baixo       0.53      0.42      0.47        19\n",
      "         desbalanceamento_medio       0.33      0.52      0.41        21\n",
      "                         normal       0.40      0.50      0.44         8\n",
      "                outer_race_alto       0.47      0.54      0.51        35\n",
      "               outer_race_baixo       0.55      0.50      0.52        22\n",
      "               outer_race_medio       0.46      0.69      0.55        16\n",
      "\n",
      "                       accuracy                           0.57       391\n",
      "                      macro avg       0.57      0.57      0.56       391\n",
      "                   weighted avg       0.58      0.57      0.57       391\n",
      "\n"
     ]
    }
   ],
   "source": [
    "# Visualiza a matriz de confusão\n",
    "cm = confusion_matrix(y_test, y_pred)\n",
    "plt.imshow(cm, cmap=plt.cm.Blues)\n",
    "plt.title(f'Matriz de Confusão - {metodo}')\n",
    "plt.xlabel('Previsão')\n",
    "plt.ylabel('Verdadeiro')\n",
    "plt.xticks(range(len(models.defeitos)-3), range(len(models.defeitos)-3))\n",
    "plt.yticks(range(len(models.defeitos)-3), range(len(models.defeitos)-3))\n",
    "plt.xlim(-0.5,len(models.defeitos)-3.5)\n",
    "plt.ylim(-0.5,len(models.defeitos)-3.5)\n",
    "\n",
    "for i in range(2):\n",
    "    for j in range(2):\n",
    "        plt.text(j, i, cm[i, j], ha='center', va='center', color='red')\n",
    "plt.show()\n",
    "\n",
    "# Imprime as métricas de performance\n",
    "print(\"A precisão do classificador é:\", np.round(100*accuracy_score(y_test, y_pred),1),'%')\n",
    "print(\"Relatório de classificação:\\n\", classification_report(y_test, y_pred))"
   ]
  },
  {
   "cell_type": "code",
   "execution_count": 5,
   "metadata": {},
   "outputs": [
    {
     "name": "stdout",
     "output_type": "stream",
     "text": [
      "Acurácia: 49.87 %\n"
     ]
    }
   ],
   "source": [
    "from sklearn.neighbors import KNeighborsClassifier\n",
    "\n",
    "# Separar as features (X) da coluna \"defeito\" (y)\n",
    "X = df.drop(\"defeito\", axis=1)\n",
    "y = df[\"defeito\"]\n",
    "\n",
    "# Dividir os dados em conjunto de treinamento e teste\n",
    "X_train, X_test, y_train, y_test = train_test_split(X, y, test_size=0.2)\n",
    "\n",
    "\n",
    "# Treinar o modelo KNN\n",
    "knn = KNeighborsClassifier(n_neighbors=3)\n",
    "metodo = 'KNeighbors'\n",
    "knn.fit(X_train, y_train)\n",
    "\n",
    "# Fazer previsões com o conjunto de teste\n",
    "y_pred = knn.predict(X_test)\n",
    "\n",
    "# Avaliar a performance do modelo\n",
    "accuracy = accuracy_score(y_test, y_pred)\n",
    "print(\"Acurácia:\", np.round(100*accuracy,2),'%')\n"
   ]
  },
  {
   "cell_type": "code",
   "execution_count": 6,
   "metadata": {},
   "outputs": [
    {
     "data": {
      "image/png": "[encoded data removed]",
      "text/plain": [
       "<Figure size 640x480 with 1 Axes>"
      ]
     },
     "metadata": {},
     "output_type": "display_data"
    },
    {
     "name": "stdout",
     "output_type": "stream",
     "text": [
      "A precisão do classificador é: 49.87 %\n",
      "Relatório de classificação:\n",
      "                                  precision    recall  f1-score   support\n",
      "\n",
      "                ball_fault_alto       0.57      0.85      0.68        20\n",
      "               ball_fault_baixo       0.67      0.62      0.65        16\n",
      "               ball_fault_medio       0.76      0.54      0.63        24\n",
      "                cage_fault_alto       0.41      0.48      0.44        29\n",
      "               cage_fault_baixo       0.42      0.64      0.51        22\n",
      "               cage_fault_medio       0.47      0.44      0.45        16\n",
      " desalinhamento_horizontal_alto       0.18      0.50      0.26         6\n",
      "desalinhamento_horizontal_baixo       0.28      0.64      0.39        11\n",
      "desalinhamento_horizontal_médio       0.29      0.47      0.36        15\n",
      "   desalinhamento_vertical_alto       0.57      0.50      0.53        24\n",
      "  desalinhamento_vertical_baixo       0.45      0.34      0.39        29\n",
      "  desalinhamento_vertical_médio       0.47      0.32      0.38        22\n",
      "          desbalanceamento_alto       0.60      0.60      0.60        30\n",
      "         desbalanceamento_baixo       0.50      0.85      0.63        13\n",
      "         desbalanceamento_medio       0.58      0.58      0.58        19\n",
      "                         normal       0.43      0.21      0.29        14\n",
      "                outer_race_alto       0.57      0.39      0.46        33\n",
      "               outer_race_baixo       0.87      0.52      0.65        25\n",
      "               outer_race_medio       0.71      0.22      0.33        23\n",
      "\n",
      "                       accuracy                           0.50       391\n",
      "                      macro avg       0.52      0.51      0.49       391\n",
      "                   weighted avg       0.54      0.50      0.50       391\n",
      "\n"
     ]
    }
   ],
   "source": [
    "# Visualiza a matriz de confusão\n",
    "cm = confusion_matrix(y_test, y_pred)\n",
    "plt.imshow(cm, cmap=plt.cm.Blues)\n",
    "plt.title(f'Matriz de Confusão - {metodo}')\n",
    "plt.xlabel('Previsão')\n",
    "plt.ylabel('Verdadeiro')\n",
    "plt.xticks(range(len(models.defeitos)-3), range(len(models.defeitos)-3))\n",
    "plt.yticks(range(len(models.defeitos)-3), range(len(models.defeitos)-3))\n",
    "plt.xlim(-0.5,len(models.defeitos)-3.5)\n",
    "plt.ylim(-0.5,len(models.defeitos)-3.5)\n",
    "\n",
    "for i in range(2):\n",
    "    for j in range(2):\n",
    "        plt.text(j, i, cm[i, j], ha='center', va='center', color='red')\n",
    "plt.show()\n",
    "\n",
    "# Imprime as métricas de performance\n",
    "print(\"A precisão do classificador é:\", np.round(100*accuracy_score(y_test, y_pred),2),'%')\n",
    "print(\"Relatório de classificação:\\n\", classification_report(y_test, y_pred))"
   ]
  },
  {
   "cell_type": "code",
   "execution_count": 7,
   "metadata": {},
   "outputs": [
    {
     "ename": "ValueError",
     "evalue": "specified nu is infeasible",
     "output_type": "error",
     "traceback": [
      "\u001b[1;31m---------------------------------------------------------------------------\u001b[0m",
      "\u001b[1;31mValueError\u001b[0m                                Traceback (most recent call last)",
      "Cell \u001b[1;32mIn[7], line 10\u001b[0m\n\u001b[0;32m      8\u001b[0m clf \u001b[39m=\u001b[39m NuSVC()\n\u001b[0;32m      9\u001b[0m metodo \u001b[39m=\u001b[39m \u001b[39m'\u001b[39m\u001b[39mNuSVC\u001b[39m\u001b[39m'\u001b[39m\n\u001b[1;32m---> 10\u001b[0m clf\u001b[39m.\u001b[39;49mfit(X_train, y_train)\n\u001b[0;32m     12\u001b[0m \u001b[39m# Realizar as previsões\u001b[39;00m\n\u001b[0;32m     13\u001b[0m y_pred \u001b[39m=\u001b[39m clf\u001b[39m.\u001b[39mpredict(X_test)\n",
      "File \u001b[1;32mc:\\Users\\leona\\Documents\\ProjetoFinal_LeonardoPacheco_UFRJ_LAVI\\.venv\\lib\\site-packages\\sklearn\\svm\\_base.py:252\u001b[0m, in \u001b[0;36mBaseLibSVM.fit\u001b[1;34m(self, X, y, sample_weight)\u001b[0m\n\u001b[0;32m    249\u001b[0m     \u001b[39mprint\u001b[39m(\u001b[39m\"\u001b[39m\u001b[39m[LibSVM]\u001b[39m\u001b[39m\"\u001b[39m, end\u001b[39m=\u001b[39m\u001b[39m\"\u001b[39m\u001b[39m\"\u001b[39m)\n\u001b[0;32m    251\u001b[0m seed \u001b[39m=\u001b[39m rnd\u001b[39m.\u001b[39mrandint(np\u001b[39m.\u001b[39miinfo(\u001b[39m\"\u001b[39m\u001b[39mi\u001b[39m\u001b[39m\"\u001b[39m)\u001b[39m.\u001b[39mmax)\n\u001b[1;32m--> 252\u001b[0m fit(X, y, sample_weight, solver_type, kernel, random_seed\u001b[39m=\u001b[39;49mseed)\n\u001b[0;32m    253\u001b[0m \u001b[39m# see comment on the other call to np.iinfo in this file\u001b[39;00m\n\u001b[0;32m    255\u001b[0m \u001b[39mself\u001b[39m\u001b[39m.\u001b[39mshape_fit_ \u001b[39m=\u001b[39m X\u001b[39m.\u001b[39mshape \u001b[39mif\u001b[39;00m \u001b[39mhasattr\u001b[39m(X, \u001b[39m\"\u001b[39m\u001b[39mshape\u001b[39m\u001b[39m\"\u001b[39m) \u001b[39melse\u001b[39;00m (n_samples,)\n",
      "File \u001b[1;32mc:\\Users\\leona\\Documents\\ProjetoFinal_LeonardoPacheco_UFRJ_LAVI\\.venv\\lib\\site-packages\\sklearn\\svm\\_base.py:331\u001b[0m, in \u001b[0;36mBaseLibSVM._dense_fit\u001b[1;34m(self, X, y, sample_weight, solver_type, kernel, random_seed)\u001b[0m\n\u001b[0;32m    317\u001b[0m libsvm\u001b[39m.\u001b[39mset_verbosity_wrap(\u001b[39mself\u001b[39m\u001b[39m.\u001b[39mverbose)\n\u001b[0;32m    319\u001b[0m \u001b[39m# we don't pass **self.get_params() to allow subclasses to\u001b[39;00m\n\u001b[0;32m    320\u001b[0m \u001b[39m# add other parameters to __init__\u001b[39;00m\n\u001b[0;32m    321\u001b[0m (\n\u001b[0;32m    322\u001b[0m     \u001b[39mself\u001b[39m\u001b[39m.\u001b[39msupport_,\n\u001b[0;32m    323\u001b[0m     \u001b[39mself\u001b[39m\u001b[39m.\u001b[39msupport_vectors_,\n\u001b[0;32m    324\u001b[0m     \u001b[39mself\u001b[39m\u001b[39m.\u001b[39m_n_support,\n\u001b[0;32m    325\u001b[0m     \u001b[39mself\u001b[39m\u001b[39m.\u001b[39mdual_coef_,\n\u001b[0;32m    326\u001b[0m     \u001b[39mself\u001b[39m\u001b[39m.\u001b[39mintercept_,\n\u001b[0;32m    327\u001b[0m     \u001b[39mself\u001b[39m\u001b[39m.\u001b[39m_probA,\n\u001b[0;32m    328\u001b[0m     \u001b[39mself\u001b[39m\u001b[39m.\u001b[39m_probB,\n\u001b[0;32m    329\u001b[0m     \u001b[39mself\u001b[39m\u001b[39m.\u001b[39mfit_status_,\n\u001b[0;32m    330\u001b[0m     \u001b[39mself\u001b[39m\u001b[39m.\u001b[39m_num_iter,\n\u001b[1;32m--> 331\u001b[0m ) \u001b[39m=\u001b[39m libsvm\u001b[39m.\u001b[39;49mfit(\n\u001b[0;32m    332\u001b[0m     X,\n\u001b[0;32m    333\u001b[0m     y,\n\u001b[0;32m    334\u001b[0m     svm_type\u001b[39m=\u001b[39;49msolver_type,\n\u001b[0;32m    335\u001b[0m     sample_weight\u001b[39m=\u001b[39;49msample_weight,\n\u001b[0;32m    336\u001b[0m     \u001b[39m# TODO(1.4): Replace \"_class_weight\" with \"class_weight_\"\u001b[39;49;00m\n\u001b[0;32m    337\u001b[0m     class_weight\u001b[39m=\u001b[39;49m\u001b[39mgetattr\u001b[39;49m(\u001b[39mself\u001b[39;49m, \u001b[39m\"\u001b[39;49m\u001b[39m_class_weight\u001b[39;49m\u001b[39m\"\u001b[39;49m, np\u001b[39m.\u001b[39;49mempty(\u001b[39m0\u001b[39;49m)),\n\u001b[0;32m    338\u001b[0m     kernel\u001b[39m=\u001b[39;49mkernel,\n\u001b[0;32m    339\u001b[0m     C\u001b[39m=\u001b[39;49m\u001b[39mself\u001b[39;49m\u001b[39m.\u001b[39;49mC,\n\u001b[0;32m    340\u001b[0m     nu\u001b[39m=\u001b[39;49m\u001b[39mself\u001b[39;49m\u001b[39m.\u001b[39;49mnu,\n\u001b[0;32m    341\u001b[0m     probability\u001b[39m=\u001b[39;49m\u001b[39mself\u001b[39;49m\u001b[39m.\u001b[39;49mprobability,\n\u001b[0;32m    342\u001b[0m     degree\u001b[39m=\u001b[39;49m\u001b[39mself\u001b[39;49m\u001b[39m.\u001b[39;49mdegree,\n\u001b[0;32m    343\u001b[0m     shrinking\u001b[39m=\u001b[39;49m\u001b[39mself\u001b[39;49m\u001b[39m.\u001b[39;49mshrinking,\n\u001b[0;32m    344\u001b[0m     tol\u001b[39m=\u001b[39;49m\u001b[39mself\u001b[39;49m\u001b[39m.\u001b[39;49mtol,\n\u001b[0;32m    345\u001b[0m     cache_size\u001b[39m=\u001b[39;49m\u001b[39mself\u001b[39;49m\u001b[39m.\u001b[39;49mcache_size,\n\u001b[0;32m    346\u001b[0m     coef0\u001b[39m=\u001b[39;49m\u001b[39mself\u001b[39;49m\u001b[39m.\u001b[39;49mcoef0,\n\u001b[0;32m    347\u001b[0m     gamma\u001b[39m=\u001b[39;49m\u001b[39mself\u001b[39;49m\u001b[39m.\u001b[39;49m_gamma,\n\u001b[0;32m    348\u001b[0m     epsilon\u001b[39m=\u001b[39;49m\u001b[39mself\u001b[39;49m\u001b[39m.\u001b[39;49mepsilon,\n\u001b[0;32m    349\u001b[0m     max_iter\u001b[39m=\u001b[39;49m\u001b[39mself\u001b[39;49m\u001b[39m.\u001b[39;49mmax_iter,\n\u001b[0;32m    350\u001b[0m     random_seed\u001b[39m=\u001b[39;49mrandom_seed,\n\u001b[0;32m    351\u001b[0m )\n\u001b[0;32m    353\u001b[0m \u001b[39mself\u001b[39m\u001b[39m.\u001b[39m_warn_from_fit_status()\n",
      "File \u001b[1;32msklearn\\svm\\_libsvm.pyx:191\u001b[0m, in \u001b[0;36msklearn.svm._libsvm.fit\u001b[1;34m()\u001b[0m\n",
      "\u001b[1;31mValueError\u001b[0m: specified nu is infeasible"
     ]
    }
   ],
   "source": [
    "from sklearn.svm import NuSVC\n",
    "from sklearn.metrics import classification_report\n",
    "\n",
    "# Dividir o dataset em dados de treino e teste\n",
    "X_train, X_test, y_train, y_test = train_test_split(X, y, test_size=0.2)\n",
    "\n",
    "# Treinar o classificador NuSVC\n",
    "clf = NuSVC()\n",
    "metodo = 'NuSVC'\n",
    "clf.fit(X_train, y_train)\n",
    "\n",
    "# Realizar as previsões\n",
    "y_pred = clf.predict(X_test)\n",
    "\n",
    "# Mostrar os resultados\n",
    "print(classification_report(y_test, y_pred))"
   ]
  },
  {
   "cell_type": "code",
   "execution_count": null,
   "metadata": {},
   "outputs": [],
   "source": [
    "# Visualiza a matriz de confusão\n",
    "cm = confusion_matrix(y_test, y_pred)\n",
    "plt.imshow(cm, cmap=plt.cm.Blues)\n",
    "plt.title(f'Matriz de Confusão - {metodo}')\n",
    "plt.xlabel('Previsão')\n",
    "plt.ylabel('Verdadeiro')\n",
    "plt.xticks(range(len(models.defeitos)-3), range(len(models.defeitos)-3))\n",
    "plt.yticks(range(len(models.defeitos)-3), range(len(models.defeitos)-3))\n",
    "plt.xlim(-0.5,len(models.defeitos)-3.5)\n",
    "plt.ylim(-0.5,len(models.defeitos)-3.5)\n",
    "\n",
    "for i in range(2):\n",
    "    for j in range(2):\n",
    "        plt.text(j, i, cm[i, j], ha='center', va='center', color='red')\n",
    "plt.show()\n",
    "\n",
    "# Imprime as métricas de performance\n",
    "print(\"A precisão do classificador é:\", np.round(100*accuracy_score(y_test, y_pred),2),'%')\n",
    "print(\"Relatório de classificação:\\n\", classification_report(y_test, y_pred))"
   ]
  }
 ],
 "metadata": {
  "kernelspec": {
   "display_name": ".venv",
   "language": "python",
   "name": "python3"
  },
  "language_info": {
   "codemirror_mode": {
    "name": "ipython",
    "version": 3
   },
   "file_extension": ".py",
   "mimetype": "text/x-python",
   "name": "python",
   "nbconvert_exporter": "python",
   "pygments_lexer": "ipython3",
   "version": "3.10.5"
  },
  "orig_nbformat": 4,
  "vscode": {
   "interpreter": {
    "hash": "7ae7d46be2641d6e2c6d3fb52459160c7ebfdbc26f33f0f4d78b2d35162b5186"
   }
  }
 },
 "nbformat": 4,
 "nbformat_minor": 2
}
