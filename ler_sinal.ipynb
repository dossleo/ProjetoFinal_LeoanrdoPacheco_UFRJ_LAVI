{
 "cells": [
  {
   "cell_type": "code",
   "execution_count": 1,
   "metadata": {},
   "outputs": [],
   "source": [
    "import models\n",
    "from models import get_raw_data, extrair_indicadores\n",
    "import numpy as np\n",
    "import pandas as pd\n",
    "import os\n",
    "import matplotlib.pyplot as plt"
   ]
  },
  {
   "cell_type": "code",
   "execution_count": 2,
   "metadata": {},
   "outputs": [],
   "source": [
    "pasta = 'database/normal'\n",
    "coluna = 1\n",
    "arquivos = os.listdir(pasta)\n",
    "\n",
    "sinal = get_raw_data.GetData(pasta,arquivos[0],coluna)\n"
   ]
  },
  {
   "cell_type": "code",
   "execution_count": 3,
   "metadata": {},
   "outputs": [],
   "source": [
    "dataset=pd.read_csv(os.path.join(pasta, arquivos[0]), sep=',',header=None)"
   ]
  },
  {
   "cell_type": "code",
   "execution_count": 4,
   "metadata": {},
   "outputs": [
    {
     "data": {
      "text/html": [
       "<div>\n",
       "<style scoped>\n",
       "    .dataframe tbody tr th:only-of-type {\n",
       "        vertical-align: middle;\n",
       "    }\n",
       "\n",
       "    .dataframe tbody tr th {\n",
       "        vertical-align: top;\n",
       "    }\n",
       "\n",
       "    .dataframe thead th {\n",
       "        text-align: right;\n",
       "    }\n",
       "</style>\n",
       "<table border=\"1\" class=\"dataframe\">\n",
       "  <thead>\n",
       "    <tr style=\"text-align: right;\">\n",
       "      <th></th>\n",
       "      <th>0</th>\n",
       "      <th>1</th>\n",
       "      <th>2</th>\n",
       "      <th>3</th>\n",
       "      <th>4</th>\n",
       "      <th>5</th>\n",
       "      <th>6</th>\n",
       "      <th>7</th>\n",
       "    </tr>\n",
       "  </thead>\n",
       "  <tbody>\n",
       "    <tr>\n",
       "      <th>0</th>\n",
       "      <td>4.55950</td>\n",
       "      <td>0.175200</td>\n",
       "      <td>0.287210</td>\n",
       "      <td>-0.017751</td>\n",
       "      <td>-0.415650</td>\n",
       "      <td>0.032459</td>\n",
       "      <td>-0.112180</td>\n",
       "      <td>-0.128140</td>\n",
       "    </tr>\n",
       "    <tr>\n",
       "      <th>1</th>\n",
       "      <td>4.60380</td>\n",
       "      <td>-0.051295</td>\n",
       "      <td>-0.194050</td>\n",
       "      <td>-0.060071</td>\n",
       "      <td>-0.418090</td>\n",
       "      <td>0.036547</td>\n",
       "      <td>-0.110430</td>\n",
       "      <td>0.118310</td>\n",
       "    </tr>\n",
       "    <tr>\n",
       "      <th>2</th>\n",
       "      <td>4.57030</td>\n",
       "      <td>-0.969080</td>\n",
       "      <td>0.038033</td>\n",
       "      <td>-0.028329</td>\n",
       "      <td>-0.430810</td>\n",
       "      <td>0.041924</td>\n",
       "      <td>-0.143310</td>\n",
       "      <td>-0.071527</td>\n",
       "    </tr>\n",
       "    <tr>\n",
       "      <th>3</th>\n",
       "      <td>4.58700</td>\n",
       "      <td>0.891270</td>\n",
       "      <td>0.072973</td>\n",
       "      <td>0.007453</td>\n",
       "      <td>-0.400170</td>\n",
       "      <td>0.041090</td>\n",
       "      <td>-0.119840</td>\n",
       "      <td>0.043445</td>\n",
       "    </tr>\n",
       "    <tr>\n",
       "      <th>4</th>\n",
       "      <td>4.58870</td>\n",
       "      <td>-1.716000</td>\n",
       "      <td>-0.329290</td>\n",
       "      <td>-0.033063</td>\n",
       "      <td>-0.502810</td>\n",
       "      <td>0.040474</td>\n",
       "      <td>-0.252700</td>\n",
       "      <td>0.023901</td>\n",
       "    </tr>\n",
       "    <tr>\n",
       "      <th>...</th>\n",
       "      <td>...</td>\n",
       "      <td>...</td>\n",
       "      <td>...</td>\n",
       "      <td>...</td>\n",
       "      <td>...</td>\n",
       "      <td>...</td>\n",
       "      <td>...</td>\n",
       "      <td>...</td>\n",
       "    </tr>\n",
       "    <tr>\n",
       "      <th>249995</th>\n",
       "      <td>-0.33352</td>\n",
       "      <td>-0.767530</td>\n",
       "      <td>-0.383180</td>\n",
       "      <td>-0.065833</td>\n",
       "      <td>0.052855</td>\n",
       "      <td>-0.000624</td>\n",
       "      <td>0.033041</td>\n",
       "      <td>0.114490</td>\n",
       "    </tr>\n",
       "    <tr>\n",
       "      <th>249996</th>\n",
       "      <td>-0.43764</td>\n",
       "      <td>0.125980</td>\n",
       "      <td>0.225880</td>\n",
       "      <td>-0.009517</td>\n",
       "      <td>0.106850</td>\n",
       "      <td>0.000140</td>\n",
       "      <td>0.088866</td>\n",
       "      <td>-0.145510</td>\n",
       "    </tr>\n",
       "    <tr>\n",
       "      <th>249997</th>\n",
       "      <td>-0.26109</td>\n",
       "      <td>0.118680</td>\n",
       "      <td>-0.225380</td>\n",
       "      <td>-0.063392</td>\n",
       "      <td>0.043998</td>\n",
       "      <td>-0.000380</td>\n",
       "      <td>0.042475</td>\n",
       "      <td>0.125850</td>\n",
       "    </tr>\n",
       "    <tr>\n",
       "      <th>249998</th>\n",
       "      <td>-0.45957</td>\n",
       "      <td>-0.793080</td>\n",
       "      <td>-0.105010</td>\n",
       "      <td>-0.051047</td>\n",
       "      <td>0.037756</td>\n",
       "      <td>0.004440</td>\n",
       "      <td>-0.000873</td>\n",
       "      <td>-0.060454</td>\n",
       "    </tr>\n",
       "    <tr>\n",
       "      <th>249999</th>\n",
       "      <td>-0.24359</td>\n",
       "      <td>1.002700</td>\n",
       "      <td>0.109100</td>\n",
       "      <td>-0.018489</td>\n",
       "      <td>0.169610</td>\n",
       "      <td>0.003927</td>\n",
       "      <td>0.120810</td>\n",
       "      <td>0.011246</td>\n",
       "    </tr>\n",
       "  </tbody>\n",
       "</table>\n",
       "<p>250000 rows × 8 columns</p>\n",
       "</div>"
      ],
      "text/plain": [
       "              0         1         2         3         4         5         6  \\\n",
       "0       4.55950  0.175200  0.287210 -0.017751 -0.415650  0.032459 -0.112180   \n",
       "1       4.60380 -0.051295 -0.194050 -0.060071 -0.418090  0.036547 -0.110430   \n",
       "2       4.57030 -0.969080  0.038033 -0.028329 -0.430810  0.041924 -0.143310   \n",
       "3       4.58700  0.891270  0.072973  0.007453 -0.400170  0.041090 -0.119840   \n",
       "4       4.58870 -1.716000 -0.329290 -0.033063 -0.502810  0.040474 -0.252700   \n",
       "...         ...       ...       ...       ...       ...       ...       ...   \n",
       "249995 -0.33352 -0.767530 -0.383180 -0.065833  0.052855 -0.000624  0.033041   \n",
       "249996 -0.43764  0.125980  0.225880 -0.009517  0.106850  0.000140  0.088866   \n",
       "249997 -0.26109  0.118680 -0.225380 -0.063392  0.043998 -0.000380  0.042475   \n",
       "249998 -0.45957 -0.793080 -0.105010 -0.051047  0.037756  0.004440 -0.000873   \n",
       "249999 -0.24359  1.002700  0.109100 -0.018489  0.169610  0.003927  0.120810   \n",
       "\n",
       "               7  \n",
       "0      -0.128140  \n",
       "1       0.118310  \n",
       "2      -0.071527  \n",
       "3       0.043445  \n",
       "4       0.023901  \n",
       "...          ...  \n",
       "249995  0.114490  \n",
       "249996 -0.145510  \n",
       "249997  0.125850  \n",
       "249998 -0.060454  \n",
       "249999  0.011246  \n",
       "\n",
       "[250000 rows x 8 columns]"
      ]
     },
     "execution_count": 4,
     "metadata": {},
     "output_type": "execute_result"
    }
   ],
   "source": [
    "dataset"
   ]
  },
  {
   "cell_type": "code",
   "execution_count": 5,
   "metadata": {},
   "outputs": [
    {
     "data": {
      "text/plain": [
       "array([4.5595  , 0.1752  , 0.28721 , ..., 0.061171, 0.45901 , 0.2032  ])"
      ]
     },
     "execution_count": 5,
     "metadata": {},
     "output_type": "execute_result"
    }
   ],
   "source": [
    "sinal = sinal.Get()\n",
    "sinal"
   ]
  },
  {
   "cell_type": "code",
   "execution_count": 6,
   "metadata": {},
   "outputs": [],
   "source": [
    "frequencia_aquisicao = models.freq_aquisicao\n",
    "n_points = len(sinal)\n",
    "\n",
    "t_total = n_points/frequencia_aquisicao\n",
    "\n",
    "vetor_tempo = np.linspace(0,t_total,n_points)"
   ]
  },
  {
   "cell_type": "code",
   "execution_count": 7,
   "metadata": {},
   "outputs": [
    {
     "data": {
      "image/png": "[encoded data removed]",
      "text/plain": [
       "<Figure size 640x480 with 1 Axes>"
      ]
     },
     "metadata": {},
     "output_type": "display_data"
    }
   ],
   "source": [
    "plt.plot(vetor_tempo,sinal)\n",
    "plt.show()"
   ]
  },
  {
   "cell_type": "code",
   "execution_count": 8,
   "metadata": {},
   "outputs": [
    {
     "data": {
      "text/plain": [
       "250000"
      ]
     },
     "execution_count": 8,
     "metadata": {},
     "output_type": "execute_result"
    }
   ],
   "source": [
    "len(vetor_tempo)"
   ]
  }
 ],
 "metadata": {
  "kernelspec": {
   "display_name": ".venv",
   "language": "python",
   "name": "python3"
  },
  "language_info": {
   "codemirror_mode": {
    "name": "ipython",
    "version": 3
   },
   "file_extension": ".py",
   "mimetype": "text/x-python",
   "name": "python",
   "nbconvert_exporter": "python",
   "pygments_lexer": "ipython3",
   "version": "3.10.5"
  },
  "orig_nbformat": 4,
  "vscode": {
   "interpreter": {
    "hash": "7ae7d46be2641d6e2c6d3fb52459160c7ebfdbc26f33f0f4d78b2d35162b5186"
   }
  }
 },
 "nbformat": 4,
 "nbformat_minor": 2
}
