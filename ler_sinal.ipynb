{
 "cells": [
  {
   "cell_type": "code",
   "execution_count": 1,
   "metadata": {},
   "outputs": [],
   "source": [
    "import models\n",
    "from models import get_raw_data, extrair_indicadores\n",
    "import numpy as np\n",
    "import pandas as pd\n",
    "import os\n",
    "import matplotlib.pyplot as plt"
   ]
  },
  {
   "cell_type": "code",
   "execution_count": 2,
   "metadata": {},
   "outputs": [],
   "source": [
    "pasta = 'database/dados_brutos/normal'\n",
    "coluna = 1\n",
    "arquivos = os.listdir(pasta)\n",
    "\n",
    "sinal = get_raw_data.GetData(pasta,arquivos[0],coluna)"
   ]
  },
  {
   "cell_type": "code",
   "execution_count": 3,
   "metadata": {},
   "outputs": [
    {
     "data": {
      "text/plain": [
       "array([ 0.1752  , -0.051295, -0.96908 , ...,  0.11868 , -0.79308 ,\n",
       "        1.0027  ])"
      ]
     },
     "execution_count": 3,
     "metadata": {},
     "output_type": "execute_result"
    }
   ],
   "source": [
    "sinal = sinal.Get()\n",
    "sinal"
   ]
  },
  {
   "cell_type": "code",
   "execution_count": 4,
   "metadata": {},
   "outputs": [],
   "source": [
    "frequencia_aquisicao = models.freq_aquisicao\n",
    "n_points = len(sinal)\n",
    "\n",
    "t_total = n_points/frequencia_aquisicao\n",
    "\n",
    "vetor_tempo = np.linspace(0,t_total,n_points)"
   ]
  },
  {
   "cell_type": "code",
   "execution_count": 5,
   "metadata": {},
   "outputs": [
    {
     "data": {
      "image/png": "[encoded data removed]",
      "text/plain": [
       "<Figure size 640x480 with 1 Axes>"
      ]
     },
     "metadata": {},
     "output_type": "display_data"
    }
   ],
   "source": [
    "plt.plot(vetor_tempo,sinal)\n",
    "plt.show()"
   ]
  },
  {
   "cell_type": "code",
   "execution_count": 6,
   "metadata": {},
   "outputs": [
    {
     "ename": "TypeError",
     "evalue": "ExtrairIndicadores.__init__() missing 2 required positional arguments: 'coluna' and 'freq_referencia'",
     "output_type": "error",
     "traceback": [
      "\u001b[1;31m---------------------------------------------------------------------------\u001b[0m",
      "\u001b[1;31mTypeError\u001b[0m                                 Traceback (most recent call last)",
      "Cell \u001b[1;32mIn[6], line 1\u001b[0m\n\u001b[1;32m----> 1\u001b[0m indicadores \u001b[39m=\u001b[39m extrair_indicadores\u001b[39m.\u001b[39;49mExtrairIndicadores(sinal,models\u001b[39m.\u001b[39;49mfrequencias_rolamento)\n",
      "\u001b[1;31mTypeError\u001b[0m: ExtrairIndicadores.__init__() missing 2 required positional arguments: 'coluna' and 'freq_referencia'"
     ]
    }
   ],
   "source": [
    "indicadores = extrair_indicadores.ExtrairIndicadores(sinal,models.frequencias_rolamento)"
   ]
  },
  {
   "cell_type": "code",
   "execution_count": 1,
   "metadata": {},
   "outputs": [
    {
     "name": "stdout",
     "output_type": "stream",
     "text": [
      "11706\n"
     ]
    }
   ],
   "source": [
    "import models\n",
    "\n",
    "from models import (get_raw_data,\n",
    "                    extrair_indicadores,\n",
    "                    get_rpm)\n",
    "\n",
    "import numpy as np\n",
    "import pandas as pd\n",
    "import os\n",
    "import matplotlib.pyplot as plt\n",
    "import time\n",
    "\n",
    "start = time.time()\n",
    "\n",
    "dataframe = []\n",
    "ball_fault = 1.8710\n",
    "cage_fault = 0.3750\n",
    "outer_race = 2.9980\n",
    "inner_race = 5.0020\n",
    "\n",
    "PATH = models.PATH\n",
    "\n",
    "sensores = models.sensores\n",
    "\n",
    "cont = 0\n",
    "for sensor in sensores:\n",
    "    coluna = sensores[sensor]\n",
    "\n",
    "    for pasta in PATH:\n",
    "        arquivos = []\n",
    "        arquivos = os.listdir(pasta)\n",
    "        defeito = PATH[pasta]\n",
    "\n",
    "        for arquivo in arquivos:\n",
    "            cont+=1\n",
    "\n",
    "print(cont)"
   ]
  }
 ],
 "metadata": {
  "kernelspec": {
   "display_name": ".venv",
   "language": "python",
   "name": "python3"
  },
  "language_info": {
   "codemirror_mode": {
    "name": "ipython",
    "version": 3
   },
   "file_extension": ".py",
   "mimetype": "text/x-python",
   "name": "python",
   "nbconvert_exporter": "python",
   "pygments_lexer": "ipython3",
   "version": "3.10.5"
  },
  "orig_nbformat": 4,
  "vscode": {
   "interpreter": {
    "hash": "7ae7d46be2641d6e2c6d3fb52459160c7ebfdbc26f33f0f4d78b2d35162b5186"
   }
  }
 },
 "nbformat": 4,
 "nbformat_minor": 2
}
