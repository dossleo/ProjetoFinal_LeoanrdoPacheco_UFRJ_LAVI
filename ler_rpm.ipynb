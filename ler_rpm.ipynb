{
 "cells": [
  {
   "cell_type": "code",
   "execution_count": 1,
   "metadata": {},
   "outputs": [],
   "source": [
    "import models\n",
    "import os\n",
    "import pandas as pd\n",
    "from models import get_raw_data, get_rpm\n",
    "import matplotlib.pyplot as plt\n",
    "import numpy as np"
   ]
  },
  {
   "cell_type": "code",
   "execution_count": 2,
   "metadata": {},
   "outputs": [],
   "source": [
    "# pasta ='database/dados_brutos/normal'\n",
    "\n",
    "pasta ='database/dados_brutos/horizontal-misalignment/0.5mm'\n",
    "# pasta ='database/dados_brutos/horizontal-misalignment/1.0mm'\n",
    "# pasta ='database/dados_brutos/horizontal-misalignment/1.5mm'\n",
    "# pasta ='database/dados_brutos/horizontal-misalignment/2.0mm'\n",
    "\n",
    "# pasta ='database/dados_brutos/imbalance/6g'\n",
    "# pasta ='database/dados_brutos/imbalance/10g'\n",
    "# pasta ='database/dados_brutos/imbalance/15g'\n",
    "# pasta ='database/dados_brutos/imbalance/20g'\n",
    "# pasta ='database/dados_brutos/imbalance/25g'\n",
    "# pasta ='database/dados_brutos/imbalance/30g'\n",
    "# pasta ='database/dados_brutos/imbalance/35g'\n",
    "\n",
    "# pasta ='database/dados_brutos/overhang/ball_fault/0g'\n",
    "# pasta ='database/dados_brutos/overhang/ball_fault/6g'\n",
    "# pasta ='database/dados_brutos/overhang/ball_fault/20g'\n",
    "# pasta ='database/dados_brutos/overhang/ball_fault/35g'\n",
    "\n",
    "# pasta ='database/dados_brutos/overhang/cage_fault/0g'\n",
    "# pasta ='database/dados_brutos/overhang/cage_fault/6g'\n",
    "# pasta ='database/dados_brutos/overhang/cage_fault/20g'\n",
    "# pasta ='database/dados_brutos/overhang/cage_fault/35g'\n",
    "\n",
    "# pasta ='database/dados_brutos/overhang/outer_race/0g'\n",
    "# pasta ='database/dados_brutos/overhang/outer_race/6g'\n",
    "# pasta ='database/dados_brutos/overhang/outer_race/20g'\n",
    "# pasta ='database/dados_brutos/overhang/outer_race/35g'\n",
    " \n",
    "# pasta ='database/dados_brutos/underhang/ball_fault/0g'\n",
    "# pasta ='database/dados_brutos/underhang/ball_fault/6g'\n",
    "# pasta ='database/dados_brutos/underhang/ball_fault/20g'\n",
    "# pasta ='database/dados_brutos/underhang/ball_fault/35g'\n",
    "\n",
    "# pasta ='database/dados_brutos/underhang/cage_fault/0g'\n",
    "# pasta ='database/dados_brutos/underhang/cage_fault/6g'\n",
    "# pasta ='database/dados_brutos/underhang/cage_fault/20g'\n",
    "# pasta ='database/dados_brutos/underhang/cage_fault/35g'\n",
    "\n",
    "# pasta ='database/dados_brutos/underhang/outer_race/0g'\n",
    "# pasta ='database/dados_brutos/underhang/outer_race/6g'\n",
    "# pasta ='database/dados_brutos/underhang/outer_race/20g'\n",
    "# pasta ='database/dados_brutos/underhang/outer_race/35g'"
   ]
  },
  {
   "cell_type": "code",
   "execution_count": 3,
   "metadata": {},
   "outputs": [
    {
     "data": {
      "image/png": "[encoded data removed]",
      "text/plain": [
       "<Figure size 640x480 with 1 Axes>"
      ]
     },
     "metadata": {},
     "output_type": "display_data"
    },
    {
     "ename": "UFuncTypeError",
     "evalue": "ufunc 'add' did not contain a loop with signature matching types (dtype('<U51'), dtype('<U51')) -> None",
     "output_type": "error",
     "traceback": [
      "\u001b[1;31m---------------------------------------------------------------------------\u001b[0m",
      "\u001b[1;31mUFuncTypeError\u001b[0m                            Traceback (most recent call last)",
      "Cell \u001b[1;32mIn[3], line 23\u001b[0m\n\u001b[0;32m     20\u001b[0m \u001b[39m# plt.axis('off')\u001b[39;00m\n\u001b[0;32m     21\u001b[0m plt\u001b[39m.\u001b[39mshow()\n\u001b[1;32m---> 23\u001b[0m rpm \u001b[39m=\u001b[39m get_rpm\u001b[39m.\u001b[39;49mGetRPM(pasta,arquivo)\n\u001b[0;32m     24\u001b[0m rpm_ponto \u001b[39m=\u001b[39m rpm\u001b[39m.\u001b[39mget_rpm_ponto_a_ponto(\u001b[39m'\u001b[39m\u001b[39mhz\u001b[39m\u001b[39m'\u001b[39m)\n\u001b[0;32m     25\u001b[0m rpm_medio \u001b[39m=\u001b[39m rpm\u001b[39m.\u001b[39mget_rpm_medio(\u001b[39m'\u001b[39m\u001b[39mhz\u001b[39m\u001b[39m'\u001b[39m)\n",
      "File \u001b[1;32mc:\\Users\\leona\\Documents\\ProjetoFinal_LeonardoPacheco_UFRJ_LAVI\\models\\get_rpm.py:30\u001b[0m, in \u001b[0;36mGetRPM.__init__\u001b[1;34m(self, sinal_rpm, sinal_sensor)\u001b[0m\n\u001b[0;32m     27\u001b[0m \u001b[39mself\u001b[39m\u001b[39m.\u001b[39msinal_sensor \u001b[39m=\u001b[39m sinal_sensor\n\u001b[0;32m     28\u001b[0m \u001b[39mself\u001b[39m\u001b[39m.\u001b[39mdata \u001b[39m=\u001b[39m np\u001b[39m.\u001b[39marray(sinal_rpm)\n\u001b[1;32m---> 30\u001b[0m \u001b[39mself\u001b[39m\u001b[39m.\u001b[39mdata \u001b[39m=\u001b[39m np\u001b[39m.\u001b[39mabs(\u001b[39mself\u001b[39m\u001b[39m.\u001b[39mdata\u001b[39m-\u001b[39mnp\u001b[39m.\u001b[39;49mmean(\u001b[39mself\u001b[39;49m\u001b[39m.\u001b[39;49mdata))\n\u001b[0;32m     31\u001b[0m \u001b[39mself\u001b[39m\u001b[39m.\u001b[39mfreq_aquisicao \u001b[39m=\u001b[39m models\u001b[39m.\u001b[39mfreq_aquisicao\n\u001b[0;32m     33\u001b[0m \u001b[39mself\u001b[39m\u001b[39m.\u001b[39mduracao_seg \u001b[39m=\u001b[39m \u001b[39mlen\u001b[39m(\u001b[39mself\u001b[39m\u001b[39m.\u001b[39mdata)\u001b[39m/\u001b[39m\u001b[39mself\u001b[39m\u001b[39m.\u001b[39mfreq_aquisicao\n",
      "File \u001b[1;32m<__array_function__ internals>:180\u001b[0m, in \u001b[0;36mmean\u001b[1;34m(*args, **kwargs)\u001b[0m\n",
      "File \u001b[1;32mc:\\Users\\leona\\Documents\\ProjetoFinal_LeonardoPacheco_UFRJ_LAVI\\.venv\\lib\\site-packages\\numpy\\core\\fromnumeric.py:3432\u001b[0m, in \u001b[0;36mmean\u001b[1;34m(a, axis, dtype, out, keepdims, where)\u001b[0m\n\u001b[0;32m   3429\u001b[0m     \u001b[39melse\u001b[39;00m:\n\u001b[0;32m   3430\u001b[0m         \u001b[39mreturn\u001b[39;00m mean(axis\u001b[39m=\u001b[39maxis, dtype\u001b[39m=\u001b[39mdtype, out\u001b[39m=\u001b[39mout, \u001b[39m*\u001b[39m\u001b[39m*\u001b[39mkwargs)\n\u001b[1;32m-> 3432\u001b[0m \u001b[39mreturn\u001b[39;00m _methods\u001b[39m.\u001b[39m_mean(a, axis\u001b[39m=\u001b[39maxis, dtype\u001b[39m=\u001b[39mdtype,\n\u001b[0;32m   3433\u001b[0m                       out\u001b[39m=\u001b[39mout, \u001b[39m*\u001b[39m\u001b[39m*\u001b[39mkwargs)\n",
      "File \u001b[1;32mc:\\Users\\leona\\Documents\\ProjetoFinal_LeonardoPacheco_UFRJ_LAVI\\.venv\\lib\\site-packages\\numpy\\core\\_methods.py:180\u001b[0m, in \u001b[0;36m_mean\u001b[1;34m(a, axis, dtype, out, keepdims, where)\u001b[0m\n\u001b[0;32m    177\u001b[0m         dtype \u001b[39m=\u001b[39m mu\u001b[39m.\u001b[39mdtype(\u001b[39m'\u001b[39m\u001b[39mf4\u001b[39m\u001b[39m'\u001b[39m)\n\u001b[0;32m    178\u001b[0m         is_float16_result \u001b[39m=\u001b[39m \u001b[39mTrue\u001b[39;00m\n\u001b[1;32m--> 180\u001b[0m ret \u001b[39m=\u001b[39m umr_sum(arr, axis, dtype, out, keepdims, where\u001b[39m=\u001b[39;49mwhere)\n\u001b[0;32m    181\u001b[0m \u001b[39mif\u001b[39;00m \u001b[39misinstance\u001b[39m(ret, mu\u001b[39m.\u001b[39mndarray):\n\u001b[0;32m    182\u001b[0m     ret \u001b[39m=\u001b[39m um\u001b[39m.\u001b[39mtrue_divide(\n\u001b[0;32m    183\u001b[0m             ret, rcount, out\u001b[39m=\u001b[39mret, casting\u001b[39m=\u001b[39m\u001b[39m'\u001b[39m\u001b[39munsafe\u001b[39m\u001b[39m'\u001b[39m, subok\u001b[39m=\u001b[39m\u001b[39mFalse\u001b[39;00m)\n",
      "\u001b[1;31mUFuncTypeError\u001b[0m: ufunc 'add' did not contain a loop with signature matching types (dtype('<U51'), dtype('<U51')) -> None"
     ]
    }
   ],
   "source": [
    "arquivos = os.listdir(pasta)\n",
    "rpms = []\n",
    "tamanho = 150000\n",
    "arquivo = arquivos[0]\n",
    "\n",
    "sinal = get_raw_data.GetData(pasta,arquivo,0)\n",
    "\n",
    "sinal = sinal.Get()\n",
    "# sinal = pd.json_normalize(sinal)\n",
    "\n",
    "\n",
    "frequencia_aquisicao = models.freq_aquisicao\n",
    "n_points = len(sinal)\n",
    "\n",
    "t_total = n_points/frequencia_aquisicao\n",
    "\n",
    "vetor_tempo = np.linspace(0,t_total,n_points)\n",
    "\n",
    "plt.plot(vetor_tempo,sinal)\n",
    "# plt.axis('off')\n",
    "plt.show()\n",
    "\n",
    "rpm = get_rpm.GetRPM(pasta,arquivo)\n",
    "rpm_ponto = rpm.get_rpm_ponto_a_ponto('hz')\n",
    "rpm_medio = rpm.get_rpm_medio('hz')\n",
    "print(rpm_medio)\n",
    "rpm.plot_picos()\n",
    "rpm.plot_rpm('hz')\n",
    "\n",
    "print(rpm_medio)\n"
   ]
  },
  {
   "cell_type": "code",
   "execution_count": null,
   "metadata": {},
   "outputs": [
    {
     "name": "stdout",
     "output_type": "stream",
     "text": [
      "12.600000000000001\n",
      "13.8\n",
      "15.4\n",
      "16.2\n",
      "17.2\n",
      "18.2\n",
      "19.200000000000003\n",
      "20.200000000000003\n",
      "21.0\n",
      "21.8\n",
      "23.0\n",
      "23.8\n",
      "25.200000000000003\n",
      "25.8\n",
      "26.8\n",
      "28.200000000000003\n",
      "28.6\n",
      "29.400000000000002\n",
      "30.8\n",
      "32.0\n",
      "32.800000000000004\n",
      "33.6\n",
      "34.800000000000004\n",
      "35.6\n",
      "36.6\n",
      "37.4\n",
      "38.6\n",
      "39.400000000000006\n",
      "40.400000000000006\n",
      "41.400000000000006\n",
      "42.400000000000006\n",
      "43.0\n",
      "44.2\n",
      "45.400000000000006\n",
      "46.400000000000006\n",
      "47.400000000000006\n",
      "48.400000000000006\n",
      "49.800000000000004\n",
      "50.6\n",
      "51.2\n",
      "51.800000000000004\n",
      "53.400000000000006\n",
      "54.400000000000006\n",
      "55.0\n",
      "56.800000000000004\n",
      "57.400000000000006\n",
      "58.400000000000006\n",
      "59.0\n",
      "60.0\n"
     ]
    },
    {
     "data": {
      "image/png": "[encoded data removed]",
      "text/plain": [
       "<Figure size 640x480 with 1 Axes>"
      ]
     },
     "metadata": {},
     "output_type": "display_data"
    },
    {
     "name": "stdout",
     "output_type": "stream",
     "text": [
      "RPM minimo = 12.600000000000001\n",
      "RPM máximo = 60.0\n"
     ]
    }
   ],
   "source": [
    "arquivos = os.listdir(pasta)\n",
    "\n",
    "sinal_rpm = get_raw_data.GetData(pasta,arquivos[0],0)\n",
    "sinal_rpm = sinal_rpm.Get()\n",
    "rpm = get_rpm.GetRPM(pasta,arquivo)\n",
    "rpm_medio = rpm.get_rpm_medio('hz')\n",
    "\n",
    "rpms = [rpm_medio]\n",
    "frequencia_aquisicao = models.freq_aquisicao\n",
    "\n",
    "for i in range(len(arquivos)):\n",
    "    sinal_rpm = get_raw_data.GetData(pasta,arquivos[i],0)\n",
    "    sinal_rpm = sinal_rpm.Get()\n",
    "    # sinal_rpm = pd.json_normalize(sinal_rpm)\n",
    "\n",
    "    nome_arquivo = arquivos[0]\n",
    "          \n",
    "\n",
    "    n_points = len(sinal_rpm)\n",
    "\n",
    "    t_total = n_points/frequencia_aquisicao\n",
    "\n",
    "    vetor_tempo = np.linspace(0,t_total,n_points)\n",
    "\n",
    "    rpm = get_rpm.GetRPM(pasta,arquivos[i])\n",
    "    rpm_medio = rpm.get_rpm_medio('hz')\n",
    "    \n",
    "\n",
    "    if np.abs(rpm_medio) > np.abs(rpms[-1])+3:\n",
    "        rpm_medio = rpms[-1]+1\n",
    "\n",
    "    rpms.append(rpm_medio)\n",
    "    print(rpm_medio)\n",
    "\n",
    "rpms.pop(0)\n",
    "\n",
    "plt.plot(range(len(rpms)),rpms)\n",
    "plt.grid(True)\n",
    "plt.show()\n",
    "\n",
    "\n",
    "print(f'RPM minimo = {np.min(rpms)}')\n",
    "print(f'RPM máximo = {np.max(rpms)}')\n"
   ]
  },
  {
   "cell_type": "code",
   "execution_count": null,
   "metadata": {},
   "outputs": [
    {
     "data": {
      "text/plain": [
       "49"
      ]
     },
     "execution_count": 5,
     "metadata": {},
     "output_type": "execute_result"
    }
   ],
   "source": [
    "len(rpms)"
   ]
  },
  {
   "cell_type": "code",
   "execution_count": null,
   "metadata": {},
   "outputs": [
    {
     "name": "stdout",
     "output_type": "stream",
     "text": [
      "[12.600000000000001, 13.8, 15.4, 16.2, 17.2, 18.2, 19.200000000000003, 20.200000000000003, 21.0, 21.8, 23.0, 23.8, 25.200000000000003, 25.8, 26.8, 28.200000000000003, 28.6, 29.400000000000002, 30.8, 32.0, 32.800000000000004, 33.6, 34.800000000000004, 35.6, 36.6, 37.4, 38.6, 39.400000000000006, 40.400000000000006, 41.400000000000006, 42.400000000000006, 43.0, 44.2, 45.400000000000006, 46.400000000000006, 47.400000000000006, 48.400000000000006, 49.800000000000004, 50.6, 51.2, 51.800000000000004, 53.400000000000006, 54.400000000000006, 55.0, 56.800000000000004, 57.400000000000006, 58.400000000000006, 59.0, 60.0]\n",
      "Tempo de execução: 0.91 minutos\n"
     ]
    }
   ],
   "source": [
    "import models\n",
    "from models import get_raw_data, extrair_indicadores,listar_rpms\n",
    "import numpy as np\n",
    "import pandas as pd\n",
    "import os\n",
    "import matplotlib.pyplot as plt\n",
    "import time\n",
    "\n",
    "start = time.time()\n",
    "\n",
    "rpms = listar_rpms.ListaRPM(pasta).Get()\n",
    "print(rpms)\n",
    "\n",
    "end = time.time()\n",
    "\n",
    "elapsed_time = end - start\n",
    "\n",
    "elapsed_minutes = elapsed_time / 60\n",
    "\n",
    "print(\"Tempo de execução: {:.2f} minutos\".format(elapsed_minutes))"
   ]
  },
  {
   "cell_type": "code",
   "execution_count": 15,
   "metadata": {},
   "outputs": [
    {
     "name": "stdout",
     "output_type": "stream",
     "text": [
      "12.288\n",
      "13.1072\n",
      "14.336\n",
      "15.1552\n",
      "16.1792\n",
      "17.2032\n",
      "18.432\n",
      "19.6608\n",
      "20.2752\n",
      "21.7088\n",
      "22.3232\n",
      "23.552\n",
      "24.576\n",
      "25.6\n",
      "26.624\n",
      "27.4432\n",
      "28.8768\n",
      "29.4912\n",
      "30.72\n",
      "31.744\n",
      "32.9728\n",
      "33.5872\n",
      "34.2016\n",
      "35.4304\n",
      "36.4544\n",
      "37.6832\n",
      "38.2976\n",
      "39.3216\n",
      "40.3456\n",
      "41.7792\n",
      "42.3936\n",
      "43.6224\n",
      "44.6464\n",
      "45.4656\n",
      "46.2848\n",
      "47.7184\n",
      "48.9472\n",
      "49.5616\n",
      "51.8144\n",
      "52.4288\n",
      "53.8624\n",
      "54.6816\n",
      "55.7056\n",
      "56.7296\n",
      "57.9584\n",
      "58.7776\n",
      "59.5968\n",
      "60.416\n",
      "61.44\n"
     ]
    }
   ],
   "source": [
    "import glob \n",
    "cur_path = \"database/dados_brutos\"\n",
    "arquivos = os.listdir(f'{cur_path}/normal')\n",
    "arquivo = arquivos[0]\n",
    "\n",
    "for index,each in enumerate(arquivos):\n",
    "    new = os.path.splitext(each)[0]\n",
    "    arquivos[index] = new\n",
    "    print(new)"
   ]
  },
  {
   "cell_type": "code",
   "execution_count": 17,
   "metadata": {},
   "outputs": [
    {
     "name": "stdout",
     "output_type": "stream",
     "text": [
      "12.288\n"
     ]
    }
   ],
   "source": [
    "new = os.path.splitext(arquivo)[0]\n",
    "print(new)"
   ]
  }
 ],
 "metadata": {
  "kernelspec": {
   "display_name": ".venv",
   "language": "python",
   "name": "python3"
  },
  "language_info": {
   "codemirror_mode": {
    "name": "ipython",
    "version": 3
   },
   "file_extension": ".py",
   "mimetype": "text/x-python",
   "name": "python",
   "nbconvert_exporter": "python",
   "pygments_lexer": "ipython3",
   "version": "3.10.5"
  },
  "orig_nbformat": 4,
  "vscode": {
   "interpreter": {
    "hash": "7ae7d46be2641d6e2c6d3fb52459160c7ebfdbc26f33f0f4d78b2d35162b5186"
   }
  }
 },
 "nbformat": 4,
 "nbformat_minor": 2
}
