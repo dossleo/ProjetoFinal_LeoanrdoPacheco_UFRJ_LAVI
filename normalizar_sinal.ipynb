{
 "cells": [
  {
   "cell_type": "code",
   "execution_count": 1,
   "metadata": {},
   "outputs": [],
   "source": [
    "import models\n",
    "from models import get_raw_data\n",
    "import os\n",
    "import matplotlib.pyplot as plt\n",
    "import numpy as np\n",
    "from sklearn.preprocessing import MinMaxScaler\n"
   ]
  },
  {
   "cell_type": "code",
   "execution_count": 2,
   "metadata": {},
   "outputs": [],
   "source": [
    "pasta = 'database/dados_tratados/ordens_1'\n",
    "arquivos = os.listdir(pasta)\n",
    "arquivo = arquivos[1]\n",
    "coluna = 1"
   ]
  },
  {
   "cell_type": "code",
   "execution_count": 3,
   "metadata": {},
   "outputs": [],
   "source": [
    "# sinal = get_raw_data.GetData(pasta,arquivo,coluna).GetDataframe()\n",
    "# print(sinal)\n",
    "\n",
    "# rms = sinal['rms']\n",
    "\n",
    "# plt.plot(range(len(rms)),rms)\n",
    "# plt.show()\n",
    "\n",
    "# defeito = \"ball_fault_alto\"\n",
    "# df_defeito = sinal[sinal[\"defeito\"] == defeito]\n",
    "\n",
    "# rotacao = df_defeito['rotacao_hz']\n",
    "# rms = df_defeito['rms']\n",
    "\n",
    "# plt.plot(range(len(rotacao)),rotacao)\n",
    "# plt.show()\n",
    "# plt.plot(range(len(rms)),rms)\n",
    "# plt.show()"
   ]
  },
  {
   "cell_type": "code",
   "execution_count": 4,
   "metadata": {},
   "outputs": [],
   "source": [
    "sensores = models.sensores"
   ]
  },
  {
   "cell_type": "code",
   "execution_count": 12,
   "metadata": {},
   "outputs": [
    {
     "data": {
      "text/plain": [
       "['rolamento_interno_axial',\n",
       " 'rolamento_interno_radial1',\n",
       " 'rolamento_interno_radial2',\n",
       " 'rolamento_externo_axial',\n",
       " 'rolamento_externo_radial1']"
      ]
     },
     "execution_count": 12,
     "metadata": {},
     "output_type": "execute_result"
    }
   ],
   "source": [
    "sensor_inicial = 0\n",
    "lista_sensores = list(sensores)[sensor_inicial:-1]\n",
    "lista_sensores"
   ]
  }
 ],
 "metadata": {
  "kernelspec": {
   "display_name": ".venv",
   "language": "python",
   "name": "python3"
  },
  "language_info": {
   "codemirror_mode": {
    "name": "ipython",
    "version": 3
   },
   "file_extension": ".py",
   "mimetype": "text/x-python",
   "name": "python",
   "nbconvert_exporter": "python",
   "pygments_lexer": "ipython3",
   "version": "3.10.5"
  },
  "orig_nbformat": 4,
  "vscode": {
   "interpreter": {
    "hash": "7ae7d46be2641d6e2c6d3fb52459160c7ebfdbc26f33f0f4d78b2d35162b5186"
   }
  }
 },
 "nbformat": 4,
 "nbformat_minor": 2
}
