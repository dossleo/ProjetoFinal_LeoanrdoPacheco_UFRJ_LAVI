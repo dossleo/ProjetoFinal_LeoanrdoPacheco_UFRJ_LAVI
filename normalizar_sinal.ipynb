{
 "cells": [
  {
   "cell_type": "code",
   "execution_count": null,
   "metadata": {},
   "outputs": [],
   "source": [
    "import models\n",
    "from models import get_raw_data\n",
    "import os\n",
    "import matplotlib.pyplot as plt\n",
    "import numpy as np\n",
    "from sklearn.preprocessing import MinMaxScaler\n"
   ]
  },
  {
   "cell_type": "code",
   "execution_count": null,
   "metadata": {},
   "outputs": [],
   "source": [
    "pasta = 'database/dados_tratados/ordens_1'\n",
    "arquivos = os.listdir(pasta)\n",
    "arquivo = arquivos[1]\n",
    "coluna = 1"
   ]
  },
  {
   "cell_type": "code",
   "execution_count": null,
   "metadata": {},
   "outputs": [],
   "source": [
    "sinal = get_raw_data.GetData(pasta,arquivo,coluna).GetDataframe()\n",
    "print(sinal)\n",
    "\n",
    "rms = sinal['rms']\n",
    "\n",
    "plt.plot(range(len(rms)),rms)\n",
    "plt.show()\n",
    "\n",
    "defeito = \"ball_fault_alto\"\n",
    "df_defeito = sinal[sinal[\"defeito\"] == defeito]\n",
    "\n",
    "rotacao = df_defeito['rotacao_hz']\n",
    "rms = df_defeito['rms']\n",
    "\n",
    "plt.plot(range(len(rotacao)),rotacao)\n",
    "plt.show()\n",
    "plt.plot(range(len(rms)),rms)\n",
    "plt.show()"
   ]
  }
 ],
 "metadata": {
  "kernelspec": {
   "display_name": ".venv",
   "language": "python",
   "name": "python3"
  },
  "language_info": {
   "name": "python",
   "version": "3.10.5 (tags/v3.10.5:f377153, Jun  6 2022, 16:14:13) [MSC v.1929 64 bit (AMD64)]"
  },
  "orig_nbformat": 4,
  "vscode": {
   "interpreter": {
    "hash": "7ae7d46be2641d6e2c6d3fb52459160c7ebfdbc26f33f0f4d78b2d35162b5186"
   }
  }
 },
 "nbformat": 4,
 "nbformat_minor": 2
}
