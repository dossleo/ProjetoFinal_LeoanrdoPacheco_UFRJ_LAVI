{
 "cells": [
  {
   "cell_type": "code",
   "execution_count": 1,
   "metadata": {},
   "outputs": [],
   "source": [
    "import models\n",
    "from models import (get_raw_data, get_rpm, normalizar_sinal)\n",
    "import os\n",
    "import matplotlib.pyplot as plt\n",
    "import numpy as np\n",
    "import pandas as pd\n",
    "from sklearn.preprocessing import MinMaxScaler"
   ]
  },
  {
   "attachments": {},
   "cell_type": "markdown",
   "metadata": {},
   "source": [
    "Equação para normalização\n",
    "\n",
    "(ymax - ymin) / ( xmax - xmin) = (y - ymin) / (x - xmin)\n",
    "\n",
    "x = ( (y - ymin) / (ymax - ymin) ) * (xmax - xmin) + xmin\n",
    "\n",
    "y é o valor na escala física\n",
    "x é o valor na escala normalizada"
   ]
  },
  {
   "cell_type": "code",
   "execution_count": 2,
   "metadata": {},
   "outputs": [],
   "source": [
    "ordem = 1\n",
    "pasta = f'database/dados_tratados/ordens_{ordem}'\n",
    "arquivo = 'dados_extraidos_geral.csv'"
   ]
  },
  {
   "cell_type": "code",
   "execution_count": 3,
   "metadata": {},
   "outputs": [],
   "source": [
    "dataframe = get_raw_data.GetData(pasta,arquivo).GetDataframe()"
   ]
  },
  {
   "cell_type": "code",
   "execution_count": 4,
   "metadata": {},
   "outputs": [],
   "source": [
    "Objeto_normalizar = normalizar_sinal.NormalizarSinal(dataframe,ordem)"
   ]
  },
  {
   "cell_type": "code",
   "execution_count": 5,
   "metadata": {},
   "outputs": [
    {
     "name": "stdout",
     "output_type": "stream",
     "text": [
      "Arquivo salvo com sucesso!\n",
      "database/dados_tratados/ordens_1/Dados_Normalizados.csv\n"
     ]
    }
   ],
   "source": [
    "Objeto_normalizar.save_as_csv()"
   ]
  },
  {
   "cell_type": "code",
   "execution_count": 6,
   "metadata": {},
   "outputs": [],
   "source": [
    "pasta = f'database/dados_tratados/ordens_{ordem}'\n",
    "arquivo = 'Dados_Normalizados.csv'\n",
    "\n",
    "df_normal = get_raw_data.GetData(pasta,arquivo).GetDataframe()"
   ]
  },
  {
   "cell_type": "code",
   "execution_count": 7,
   "metadata": {},
   "outputs": [
    {
     "data": {
      "text/html": [
       "<div>\n",
       "<style scoped>\n",
       "    .dataframe tbody tr th:only-of-type {\n",
       "        vertical-align: middle;\n",
       "    }\n",
       "\n",
       "    .dataframe tbody tr th {\n",
       "        vertical-align: top;\n",
       "    }\n",
       "\n",
       "    .dataframe thead th {\n",
       "        text-align: right;\n",
       "    }\n",
       "</style>\n",
       "<table border=\"1\" class=\"dataframe\">\n",
       "  <thead>\n",
       "    <tr style=\"text-align: right;\">\n",
       "      <th></th>\n",
       "      <th>rotacao_hz</th>\n",
       "      <th>maximo</th>\n",
       "      <th>rms</th>\n",
       "      <th>assimetria</th>\n",
       "      <th>curtose</th>\n",
       "      <th>fator_crista</th>\n",
       "      <th>soma_ball_fault</th>\n",
       "      <th>soma_outer_race</th>\n",
       "      <th>soma_rotacao_hz</th>\n",
       "      <th>soma_relativa_ball_fault</th>\n",
       "      <th>soma_relativa_outer_race</th>\n",
       "      <th>soma_relativa_rotacao_hz</th>\n",
       "      <th>sensor</th>\n",
       "      <th>defeito</th>\n",
       "    </tr>\n",
       "  </thead>\n",
       "  <tbody>\n",
       "    <tr>\n",
       "      <th>0</th>\n",
       "      <td>0.054711</td>\n",
       "      <td>0.009545</td>\n",
       "      <td>0.021910</td>\n",
       "      <td>0.127253</td>\n",
       "      <td>0.044261</td>\n",
       "      <td>0.054624</td>\n",
       "      <td>0.002680</td>\n",
       "      <td>0.001916</td>\n",
       "      <td>0.001746</td>\n",
       "      <td>0.009152</td>\n",
       "      <td>0.006571</td>\n",
       "      <td>0.005995</td>\n",
       "      <td>0.0</td>\n",
       "      <td>normal</td>\n",
       "    </tr>\n",
       "    <tr>\n",
       "      <th>1</th>\n",
       "      <td>0.054711</td>\n",
       "      <td>0.009545</td>\n",
       "      <td>0.021947</td>\n",
       "      <td>0.127700</td>\n",
       "      <td>0.044343</td>\n",
       "      <td>0.054511</td>\n",
       "      <td>0.002767</td>\n",
       "      <td>0.002016</td>\n",
       "      <td>0.001901</td>\n",
       "      <td>0.009377</td>\n",
       "      <td>0.006858</td>\n",
       "      <td>0.006470</td>\n",
       "      <td>0.0</td>\n",
       "      <td>normal</td>\n",
       "    </tr>\n",
       "    <tr>\n",
       "      <th>2</th>\n",
       "      <td>0.054711</td>\n",
       "      <td>0.009545</td>\n",
       "      <td>0.021913</td>\n",
       "      <td>0.128246</td>\n",
       "      <td>0.044655</td>\n",
       "      <td>0.054615</td>\n",
       "      <td>0.003047</td>\n",
       "      <td>0.002085</td>\n",
       "      <td>0.001917</td>\n",
       "      <td>0.010261</td>\n",
       "      <td>0.007052</td>\n",
       "      <td>0.006491</td>\n",
       "      <td>0.0</td>\n",
       "      <td>normal</td>\n",
       "    </tr>\n",
       "    <tr>\n",
       "      <th>3</th>\n",
       "      <td>0.054711</td>\n",
       "      <td>0.009545</td>\n",
       "      <td>0.021898</td>\n",
       "      <td>0.127376</td>\n",
       "      <td>0.044411</td>\n",
       "      <td>0.054661</td>\n",
       "      <td>0.002641</td>\n",
       "      <td>0.002123</td>\n",
       "      <td>0.001815</td>\n",
       "      <td>0.008820</td>\n",
       "      <td>0.007109</td>\n",
       "      <td>0.006091</td>\n",
       "      <td>0.0</td>\n",
       "      <td>normal</td>\n",
       "    </tr>\n",
       "    <tr>\n",
       "      <th>4</th>\n",
       "      <td>0.054711</td>\n",
       "      <td>0.009545</td>\n",
       "      <td>0.021906</td>\n",
       "      <td>0.127553</td>\n",
       "      <td>0.044426</td>\n",
       "      <td>0.054637</td>\n",
       "      <td>0.002602</td>\n",
       "      <td>0.002142</td>\n",
       "      <td>0.001831</td>\n",
       "      <td>0.008636</td>\n",
       "      <td>0.007128</td>\n",
       "      <td>0.006104</td>\n",
       "      <td>0.0</td>\n",
       "      <td>normal</td>\n",
       "    </tr>\n",
       "    <tr>\n",
       "      <th>...</th>\n",
       "      <td>...</td>\n",
       "      <td>...</td>\n",
       "      <td>...</td>\n",
       "      <td>...</td>\n",
       "      <td>...</td>\n",
       "      <td>...</td>\n",
       "      <td>...</td>\n",
       "      <td>...</td>\n",
       "      <td>...</td>\n",
       "      <td>...</td>\n",
       "      <td>...</td>\n",
       "      <td>...</td>\n",
       "      <td>...</td>\n",
       "      <td>...</td>\n",
       "    </tr>\n",
       "    <tr>\n",
       "      <th>165355</th>\n",
       "      <td>0.401216</td>\n",
       "      <td>0.120000</td>\n",
       "      <td>0.169677</td>\n",
       "      <td>0.019870</td>\n",
       "      <td>0.023770</td>\n",
       "      <td>0.096196</td>\n",
       "      <td>0.043860</td>\n",
       "      <td>0.039171</td>\n",
       "      <td>0.277521</td>\n",
       "      <td>0.025922</td>\n",
       "      <td>0.023149</td>\n",
       "      <td>0.164079</td>\n",
       "      <td>1.0</td>\n",
       "      <td>outer_race_alto</td>\n",
       "    </tr>\n",
       "    <tr>\n",
       "      <th>165356</th>\n",
       "      <td>0.401216</td>\n",
       "      <td>0.120000</td>\n",
       "      <td>0.169710</td>\n",
       "      <td>0.020616</td>\n",
       "      <td>0.024080</td>\n",
       "      <td>0.096174</td>\n",
       "      <td>0.036424</td>\n",
       "      <td>0.034910</td>\n",
       "      <td>0.279789</td>\n",
       "      <td>0.021577</td>\n",
       "      <td>0.020679</td>\n",
       "      <td>0.165819</td>\n",
       "      <td>1.0</td>\n",
       "      <td>outer_race_alto</td>\n",
       "    </tr>\n",
       "    <tr>\n",
       "      <th>165357</th>\n",
       "      <td>0.401216</td>\n",
       "      <td>0.120000</td>\n",
       "      <td>0.169415</td>\n",
       "      <td>0.022675</td>\n",
       "      <td>0.024260</td>\n",
       "      <td>0.096370</td>\n",
       "      <td>0.045257</td>\n",
       "      <td>0.040489</td>\n",
       "      <td>0.280362</td>\n",
       "      <td>0.026684</td>\n",
       "      <td>0.023872</td>\n",
       "      <td>0.165367</td>\n",
       "      <td>1.0</td>\n",
       "      <td>outer_race_alto</td>\n",
       "    </tr>\n",
       "    <tr>\n",
       "      <th>165358</th>\n",
       "      <td>0.401216</td>\n",
       "      <td>0.120000</td>\n",
       "      <td>0.169514</td>\n",
       "      <td>0.023521</td>\n",
       "      <td>0.024359</td>\n",
       "      <td>0.096304</td>\n",
       "      <td>0.038529</td>\n",
       "      <td>0.035640</td>\n",
       "      <td>0.283990</td>\n",
       "      <td>0.022695</td>\n",
       "      <td>0.020992</td>\n",
       "      <td>0.167354</td>\n",
       "      <td>1.0</td>\n",
       "      <td>outer_race_alto</td>\n",
       "    </tr>\n",
       "    <tr>\n",
       "      <th>165359</th>\n",
       "      <td>0.401216</td>\n",
       "      <td>0.120000</td>\n",
       "      <td>0.169708</td>\n",
       "      <td>0.022961</td>\n",
       "      <td>0.024292</td>\n",
       "      <td>0.096176</td>\n",
       "      <td>0.048023</td>\n",
       "      <td>0.037462</td>\n",
       "      <td>0.283083</td>\n",
       "      <td>0.027897</td>\n",
       "      <td>0.021759</td>\n",
       "      <td>0.164504</td>\n",
       "      <td>1.0</td>\n",
       "      <td>outer_race_alto</td>\n",
       "    </tr>\n",
       "  </tbody>\n",
       "</table>\n",
       "<p>165360 rows × 14 columns</p>\n",
       "</div>"
      ],
      "text/plain": [
       "        rotacao_hz    maximo       rms  assimetria   curtose  fator_crista  \\\n",
       "0         0.054711  0.009545  0.021910    0.127253  0.044261      0.054624   \n",
       "1         0.054711  0.009545  0.021947    0.127700  0.044343      0.054511   \n",
       "2         0.054711  0.009545  0.021913    0.128246  0.044655      0.054615   \n",
       "3         0.054711  0.009545  0.021898    0.127376  0.044411      0.054661   \n",
       "4         0.054711  0.009545  0.021906    0.127553  0.044426      0.054637   \n",
       "...            ...       ...       ...         ...       ...           ...   \n",
       "165355    0.401216  0.120000  0.169677    0.019870  0.023770      0.096196   \n",
       "165356    0.401216  0.120000  0.169710    0.020616  0.024080      0.096174   \n",
       "165357    0.401216  0.120000  0.169415    0.022675  0.024260      0.096370   \n",
       "165358    0.401216  0.120000  0.169514    0.023521  0.024359      0.096304   \n",
       "165359    0.401216  0.120000  0.169708    0.022961  0.024292      0.096176   \n",
       "\n",
       "        soma_ball_fault  soma_outer_race  soma_rotacao_hz  \\\n",
       "0              0.002680         0.001916         0.001746   \n",
       "1              0.002767         0.002016         0.001901   \n",
       "2              0.003047         0.002085         0.001917   \n",
       "3              0.002641         0.002123         0.001815   \n",
       "4              0.002602         0.002142         0.001831   \n",
       "...                 ...              ...              ...   \n",
       "165355         0.043860         0.039171         0.277521   \n",
       "165356         0.036424         0.034910         0.279789   \n",
       "165357         0.045257         0.040489         0.280362   \n",
       "165358         0.038529         0.035640         0.283990   \n",
       "165359         0.048023         0.037462         0.283083   \n",
       "\n",
       "        soma_relativa_ball_fault  soma_relativa_outer_race  \\\n",
       "0                       0.009152                  0.006571   \n",
       "1                       0.009377                  0.006858   \n",
       "2                       0.010261                  0.007052   \n",
       "3                       0.008820                  0.007109   \n",
       "4                       0.008636                  0.007128   \n",
       "...                          ...                       ...   \n",
       "165355                  0.025922                  0.023149   \n",
       "165356                  0.021577                  0.020679   \n",
       "165357                  0.026684                  0.023872   \n",
       "165358                  0.022695                  0.020992   \n",
       "165359                  0.027897                  0.021759   \n",
       "\n",
       "        soma_relativa_rotacao_hz  sensor          defeito  \n",
       "0                       0.005995     0.0           normal  \n",
       "1                       0.006470     0.0           normal  \n",
       "2                       0.006491     0.0           normal  \n",
       "3                       0.006091     0.0           normal  \n",
       "4                       0.006104     0.0           normal  \n",
       "...                          ...     ...              ...  \n",
       "165355                  0.164079     1.0  outer_race_alto  \n",
       "165356                  0.165819     1.0  outer_race_alto  \n",
       "165357                  0.165367     1.0  outer_race_alto  \n",
       "165358                  0.167354     1.0  outer_race_alto  \n",
       "165359                  0.164504     1.0  outer_race_alto  \n",
       "\n",
       "[165360 rows x 14 columns]"
      ]
     },
     "execution_count": 7,
     "metadata": {},
     "output_type": "execute_result"
    }
   ],
   "source": [
    "df_normal"
   ]
  },
  {
   "cell_type": "code",
   "execution_count": 11,
   "metadata": {},
   "outputs": [
    {
     "data": {
      "text/plain": [
       "'rolamento_interno_radial1'"
      ]
     },
     "execution_count": 11,
     "metadata": {},
     "output_type": "execute_result"
    }
   ],
   "source": [
    "coluna_filtro = df_normal.columns[-1]\n",
    "df_filtrada = df_normal[df_normal[coluna_filtro]=='normal']\n",
    "\n",
    "filtro_sensor = list(models.sensores)[0]\n",
    "df_filtrada = df_normal[df_normal['sensor']==filtro_sensor]\n",
    "filtro_sensor"
   ]
  },
  {
   "cell_type": "code",
   "execution_count": 9,
   "metadata": {},
   "outputs": [
    {
     "data": {
      "text/plain": [
       "Series([], Name: soma_outer_race, dtype: float64)"
      ]
     },
     "execution_count": 9,
     "metadata": {},
     "output_type": "execute_result"
    }
   ],
   "source": [
    "coluna = df_filtrada.columns[7]\n",
    "\n",
    "df_coluna = df_filtrada[coluna]\n",
    "df_coluna"
   ]
  },
  {
   "cell_type": "code",
   "execution_count": 10,
   "metadata": {},
   "outputs": [
    {
     "data": {
      "image/png": "[encoded data removed]",
      "text/plain": [
       "<Figure size 640x480 with 1 Axes>"
      ]
     },
     "metadata": {},
     "output_type": "display_data"
    }
   ],
   "source": [
    "plt.plot(range(len(df_coluna)),df_coluna)\n",
    "plt.title(coluna)\n",
    "plt.show()"
   ]
  }
 ],
 "metadata": {
  "kernelspec": {
   "display_name": ".venv",
   "language": "python",
   "name": "python3"
  },
  "language_info": {
   "codemirror_mode": {
    "name": "ipython",
    "version": 3
   },
   "file_extension": ".py",
   "mimetype": "text/x-python",
   "name": "python",
   "nbconvert_exporter": "python",
   "pygments_lexer": "ipython3",
   "version": "3.10.5"
  },
  "orig_nbformat": 4,
  "vscode": {
   "interpreter": {
    "hash": "7ae7d46be2641d6e2c6d3fb52459160c7ebfdbc26f33f0f4d78b2d35162b5186"
   }
  }
 },
 "nbformat": 4,
 "nbformat_minor": 2
}
