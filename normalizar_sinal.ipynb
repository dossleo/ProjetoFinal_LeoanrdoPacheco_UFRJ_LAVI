{
 "cells": [
  {
   "cell_type": "code",
   "execution_count": 1,
   "metadata": {},
   "outputs": [],
   "source": [
    "import models\n",
    "from models import (get_raw_data, get_rpm, normalizar_sinal)\n",
    "import os\n",
    "import matplotlib.pyplot as plt\n",
    "import numpy as np\n",
    "import pandas as pd\n",
    "from sklearn.preprocessing import MinMaxScaler"
   ]
  },
  {
   "attachments": {},
   "cell_type": "markdown",
   "metadata": {},
   "source": [
    "Equação para normalização\n",
    "\n",
    "(ymax - ymin) / ( xmax - xmin) = (y - ymin) / (x - xmin)\n",
    "\n",
    "x = ( (y - ymin) / (ymax - ymin) ) * (xmax - xmin) + xmin\n",
    "\n",
    "y é o valor na escala física\n",
    "x é o valor na escala normalizada"
   ]
  },
  {
   "cell_type": "code",
   "execution_count": 2,
   "metadata": {},
   "outputs": [],
   "source": [
    "df = [  {'a':1,'b':1,'c':1},\n",
    "        {'a':2,'b':5,'c':7},\n",
    "        {'a':3,'b':9,'c':8}\n",
    "        ]\n",
    "df = pd.DataFrame(df)"
   ]
  },
  {
   "cell_type": "code",
   "execution_count": 3,
   "metadata": {},
   "outputs": [],
   "source": [
    "def Norm_old(df,ymax,ymin,xmax=1,xmin=0):\n",
    "    df = pd.DataFrame(df)\n",
    "    for i in df:\n",
    "        for j in df[i].index:\n",
    "            y = df[i][j]\n",
    "            x = ( (y - ymin) / (ymax - ymin) ) * (xmax - xmin) + xmin\n",
    "            df[i][j] = x\n",
    "    dataframe = df\n",
    "    return dataframe"
   ]
  },
  {
   "cell_type": "code",
   "execution_count": 4,
   "metadata": {},
   "outputs": [],
   "source": [
    "def Normalizar(df,ymax,ymin,xmax=1,xmin=0):\n",
    "    df = pd.DataFrame(df)\n",
    "    df_normalizado = ( (df - ymin) / (ymax - ymin) ) * (xmax - xmin) + xmin\n",
    "    return df"
   ]
  },
  {
   "cell_type": "code",
   "execution_count": 5,
   "metadata": {},
   "outputs": [
    {
     "data": {
      "text/html": [
       "<div>\n",
       "<style scoped>\n",
       "    .dataframe tbody tr th:only-of-type {\n",
       "        vertical-align: middle;\n",
       "    }\n",
       "\n",
       "    .dataframe tbody tr th {\n",
       "        vertical-align: top;\n",
       "    }\n",
       "\n",
       "    .dataframe thead th {\n",
       "        text-align: right;\n",
       "    }\n",
       "</style>\n",
       "<table border=\"1\" class=\"dataframe\">\n",
       "  <thead>\n",
       "    <tr style=\"text-align: right;\">\n",
       "      <th></th>\n",
       "      <th>a</th>\n",
       "      <th>b</th>\n",
       "      <th>c</th>\n",
       "    </tr>\n",
       "  </thead>\n",
       "  <tbody>\n",
       "    <tr>\n",
       "      <th>0</th>\n",
       "      <td>1</td>\n",
       "      <td>1</td>\n",
       "      <td>1</td>\n",
       "    </tr>\n",
       "    <tr>\n",
       "      <th>1</th>\n",
       "      <td>2</td>\n",
       "      <td>5</td>\n",
       "      <td>7</td>\n",
       "    </tr>\n",
       "    <tr>\n",
       "      <th>2</th>\n",
       "      <td>3</td>\n",
       "      <td>9</td>\n",
       "      <td>8</td>\n",
       "    </tr>\n",
       "  </tbody>\n",
       "</table>\n",
       "</div>"
      ],
      "text/plain": [
       "   a  b  c\n",
       "0  1  1  1\n",
       "1  2  5  7\n",
       "2  3  9  8"
      ]
     },
     "execution_count": 5,
     "metadata": {},
     "output_type": "execute_result"
    }
   ],
   "source": [
    "df = [  {'a':1,'b':1,'c':1},\n",
    "        {'a':2,'b':5,'c':7},\n",
    "        {'a':3,'b':9,'c':8}\n",
    "        ]\n",
    "df = pd.DataFrame(df)\n",
    "df_normal = Normalizar(df,np.max(np.array(df)),np.min(np.array(df)))\n",
    "df_normal"
   ]
  },
  {
   "cell_type": "code",
   "execution_count": 6,
   "metadata": {},
   "outputs": [],
   "source": [
    "pasta = 'database/dados_tratados/ordens_3'\n",
    "arquivos = os.listdir(pasta)\n",
    "arquivo = arquivos[0]\n",
    "coluna = 1"
   ]
  },
  {
   "cell_type": "code",
   "execution_count": 7,
   "metadata": {},
   "outputs": [],
   "source": [
    "colunas_freq = list()\n",
    "for i in range(len(models.defeito_rolamento)):\n",
    "    colunas_freq.append(f'soma_{models.defeito_rolamento[i]}')\n",
    "\n",
    "colunas_freq = ['soma_ball_fault',\n",
    "                'soma_cage_fault',\n",
    "                'soma_outer_race',\n",
    "                'soma_inner_race',\n",
    "                'soma_rotacao_hz']"
   ]
  },
  {
   "cell_type": "code",
   "execution_count": 8,
   "metadata": {},
   "outputs": [
    {
     "data": {
      "text/html": [
       "<div>\n",
       "<style scoped>\n",
       "    .dataframe tbody tr th:only-of-type {\n",
       "        vertical-align: middle;\n",
       "    }\n",
       "\n",
       "    .dataframe tbody tr th {\n",
       "        vertical-align: top;\n",
       "    }\n",
       "\n",
       "    .dataframe thead th {\n",
       "        text-align: right;\n",
       "    }\n",
       "</style>\n",
       "<table border=\"1\" class=\"dataframe\">\n",
       "  <thead>\n",
       "    <tr style=\"text-align: right;\">\n",
       "      <th></th>\n",
       "      <th>soma_ball_fault</th>\n",
       "      <th>soma_cage_fault</th>\n",
       "      <th>soma_outer_race</th>\n",
       "      <th>soma_inner_race</th>\n",
       "      <th>soma_rotacao_hz</th>\n",
       "    </tr>\n",
       "  </thead>\n",
       "  <tbody>\n",
       "    <tr>\n",
       "      <th>0</th>\n",
       "      <td>9445.053699</td>\n",
       "      <td>94084.500635</td>\n",
       "      <td>20815.666104</td>\n",
       "      <td>31157.307109</td>\n",
       "      <td>65997.021184</td>\n",
       "    </tr>\n",
       "    <tr>\n",
       "      <th>1</th>\n",
       "      <td>10010.382246</td>\n",
       "      <td>73583.208378</td>\n",
       "      <td>25454.444511</td>\n",
       "      <td>30514.703575</td>\n",
       "      <td>79207.495009</td>\n",
       "    </tr>\n",
       "    <tr>\n",
       "      <th>2</th>\n",
       "      <td>10733.250771</td>\n",
       "      <td>110328.582983</td>\n",
       "      <td>16950.789379</td>\n",
       "      <td>24453.688038</td>\n",
       "      <td>61346.039288</td>\n",
       "    </tr>\n",
       "    <tr>\n",
       "      <th>3</th>\n",
       "      <td>10702.367286</td>\n",
       "      <td>78901.276628</td>\n",
       "      <td>17835.855849</td>\n",
       "      <td>24041.313452</td>\n",
       "      <td>65344.324997</td>\n",
       "    </tr>\n",
       "    <tr>\n",
       "      <th>4</th>\n",
       "      <td>11265.445181</td>\n",
       "      <td>76431.411823</td>\n",
       "      <td>13284.682231</td>\n",
       "      <td>23629.271909</td>\n",
       "      <td>66038.434333</td>\n",
       "    </tr>\n",
       "    <tr>\n",
       "      <th>...</th>\n",
       "      <td>...</td>\n",
       "      <td>...</td>\n",
       "      <td>...</td>\n",
       "      <td>...</td>\n",
       "      <td>...</td>\n",
       "    </tr>\n",
       "    <tr>\n",
       "      <th>44</th>\n",
       "      <td>1054.104094</td>\n",
       "      <td>150.285308</td>\n",
       "      <td>9755.555997</td>\n",
       "      <td>6056.380827</td>\n",
       "      <td>9910.653582</td>\n",
       "    </tr>\n",
       "    <tr>\n",
       "      <th>45</th>\n",
       "      <td>974.821865</td>\n",
       "      <td>568.929430</td>\n",
       "      <td>10085.624608</td>\n",
       "      <td>6287.453259</td>\n",
       "      <td>13880.191716</td>\n",
       "    </tr>\n",
       "    <tr>\n",
       "      <th>46</th>\n",
       "      <td>1076.214801</td>\n",
       "      <td>396.234114</td>\n",
       "      <td>9414.488451</td>\n",
       "      <td>7486.570393</td>\n",
       "      <td>12863.619797</td>\n",
       "    </tr>\n",
       "    <tr>\n",
       "      <th>47</th>\n",
       "      <td>1229.796621</td>\n",
       "      <td>271.983195</td>\n",
       "      <td>10160.680133</td>\n",
       "      <td>6615.583043</td>\n",
       "      <td>17039.185116</td>\n",
       "    </tr>\n",
       "    <tr>\n",
       "      <th>48</th>\n",
       "      <td>1370.879305</td>\n",
       "      <td>266.106725</td>\n",
       "      <td>10858.420589</td>\n",
       "      <td>5854.686620</td>\n",
       "      <td>19675.725786</td>\n",
       "    </tr>\n",
       "  </tbody>\n",
       "</table>\n",
       "<p>294 rows × 5 columns</p>\n",
       "</div>"
      ],
      "text/plain": [
       "    soma_ball_fault  soma_cage_fault  soma_outer_race  soma_inner_race  \\\n",
       "0       9445.053699     94084.500635     20815.666104     31157.307109   \n",
       "1      10010.382246     73583.208378     25454.444511     30514.703575   \n",
       "2      10733.250771    110328.582983     16950.789379     24453.688038   \n",
       "3      10702.367286     78901.276628     17835.855849     24041.313452   \n",
       "4      11265.445181     76431.411823     13284.682231     23629.271909   \n",
       "..              ...              ...              ...              ...   \n",
       "44      1054.104094       150.285308      9755.555997      6056.380827   \n",
       "45       974.821865       568.929430     10085.624608      6287.453259   \n",
       "46      1076.214801       396.234114      9414.488451      7486.570393   \n",
       "47      1229.796621       271.983195     10160.680133      6615.583043   \n",
       "48      1370.879305       266.106725     10858.420589      5854.686620   \n",
       "\n",
       "    soma_rotacao_hz  \n",
       "0      65997.021184  \n",
       "1      79207.495009  \n",
       "2      61346.039288  \n",
       "3      65344.324997  \n",
       "4      66038.434333  \n",
       "..              ...  \n",
       "44      9910.653582  \n",
       "45     13880.191716  \n",
       "46     12863.619797  \n",
       "47     17039.185116  \n",
       "48     19675.725786  \n",
       "\n",
       "[294 rows x 5 columns]"
      ]
     },
     "execution_count": 8,
     "metadata": {},
     "output_type": "execute_result"
    }
   ],
   "source": [
    "sinal = get_raw_data.GetData(pasta,arquivo,coluna).GetDataframe()\n",
    "sinal_normal = sinal[sinal['defeito']=='normal']\n",
    "\n",
    "sinal_freq = sinal_normal[colunas_freq]\n",
    "sinal_freq"
   ]
  },
  {
   "cell_type": "code",
   "execution_count": 9,
   "metadata": {},
   "outputs": [
    {
     "ename": "KeyError",
     "evalue": "False",
     "output_type": "error",
     "traceback": [
      "\u001b[1;31m---------------------------------------------------------------------------\u001b[0m",
      "\u001b[1;31mKeyError\u001b[0m                                  Traceback (most recent call last)",
      "File \u001b[1;32mc:\\Users\\leona\\Documents\\ProjetoFinal_LeonardoPacheco_UFRJ_LAVI\\.venv\\lib\\site-packages\\pandas\\core\\indexes\\base.py:3803\u001b[0m, in \u001b[0;36mIndex.get_loc\u001b[1;34m(self, key, method, tolerance)\u001b[0m\n\u001b[0;32m   3802\u001b[0m \u001b[39mtry\u001b[39;00m:\n\u001b[1;32m-> 3803\u001b[0m     \u001b[39mreturn\u001b[39;00m \u001b[39mself\u001b[39;49m\u001b[39m.\u001b[39;49m_engine\u001b[39m.\u001b[39;49mget_loc(casted_key)\n\u001b[0;32m   3804\u001b[0m \u001b[39mexcept\u001b[39;00m \u001b[39mKeyError\u001b[39;00m \u001b[39mas\u001b[39;00m err:\n",
      "File \u001b[1;32mc:\\Users\\leona\\Documents\\ProjetoFinal_LeonardoPacheco_UFRJ_LAVI\\.venv\\lib\\site-packages\\pandas\\_libs\\index.pyx:138\u001b[0m, in \u001b[0;36mpandas._libs.index.IndexEngine.get_loc\u001b[1;34m()\u001b[0m\n",
      "File \u001b[1;32mc:\\Users\\leona\\Documents\\ProjetoFinal_LeonardoPacheco_UFRJ_LAVI\\.venv\\lib\\site-packages\\pandas\\_libs\\index.pyx:165\u001b[0m, in \u001b[0;36mpandas._libs.index.IndexEngine.get_loc\u001b[1;34m()\u001b[0m\n",
      "File \u001b[1;32mpandas\\_libs\\hashtable_class_helper.pxi:5745\u001b[0m, in \u001b[0;36mpandas._libs.hashtable.PyObjectHashTable.get_item\u001b[1;34m()\u001b[0m\n",
      "File \u001b[1;32mpandas\\_libs\\hashtable_class_helper.pxi:5753\u001b[0m, in \u001b[0;36mpandas._libs.hashtable.PyObjectHashTable.get_item\u001b[1;34m()\u001b[0m\n",
      "\u001b[1;31mKeyError\u001b[0m: False",
      "\nThe above exception was the direct cause of the following exception:\n",
      "\u001b[1;31mKeyError\u001b[0m                                  Traceback (most recent call last)",
      "Cell \u001b[1;32mIn[9], line 1\u001b[0m\n\u001b[1;32m----> 1\u001b[0m normalizar_sinal\u001b[39m.\u001b[39;49mNormalizarSinal(sinal)\u001b[39m.\u001b[39mGet()\n",
      "File \u001b[1;32mc:\\Users\\leona\\Documents\\ProjetoFinal_LeonardoPacheco_UFRJ_LAVI\\models\\normalizar_sinal.py:15\u001b[0m, in \u001b[0;36mNormalizarSinal.__init__\u001b[1;34m(self, dataframe)\u001b[0m\n\u001b[0;32m     11\u001b[0m \u001b[39mself\u001b[39m\u001b[39m.\u001b[39mdf_tempo \u001b[39m=\u001b[39m \u001b[39mself\u001b[39m\u001b[39m.\u001b[39mdataframe[models\u001b[39m.\u001b[39mcolunas_tempo]\n\u001b[0;32m     13\u001b[0m \u001b[39mself\u001b[39m\u001b[39m.\u001b[39mdf_sensor \u001b[39m=\u001b[39m \u001b[39mself\u001b[39m\u001b[39m.\u001b[39mdataframe[models\u001b[39m.\u001b[39mcoluna_sensor]\n\u001b[1;32m---> 15\u001b[0m \u001b[39mself\u001b[39m\u001b[39m.\u001b[39mdf_freq_sem_defeito \u001b[39m=\u001b[39m \u001b[39mself\u001b[39m\u001b[39m.\u001b[39mdf_freq[\u001b[39mself\u001b[39;49m\u001b[39m.\u001b[39;49mdf_freq[[\u001b[39m'\u001b[39;49m\u001b[39mdefeito\u001b[39;49m\u001b[39m'\u001b[39;49m]\u001b[39m==\u001b[39;49m\u001b[39m'\u001b[39;49m\u001b[39mnormal\u001b[39;49m\u001b[39m'\u001b[39;49m]]\n\u001b[0;32m     16\u001b[0m \u001b[39mself\u001b[39m\u001b[39m.\u001b[39mdf_tempo_sem_defeito \u001b[39m=\u001b[39m \u001b[39mself\u001b[39m\u001b[39m.\u001b[39mdf_tempo[\u001b[39mself\u001b[39m\u001b[39m.\u001b[39mdf_tempo[[\u001b[39m'\u001b[39m\u001b[39mdefeito\u001b[39m\u001b[39m'\u001b[39m]\u001b[39m==\u001b[39m\u001b[39m'\u001b[39m\u001b[39mnormal\u001b[39m\u001b[39m'\u001b[39m]]\n\u001b[0;32m     18\u001b[0m \u001b[39mself\u001b[39m\u001b[39m.\u001b[39mcalcular_max_min_sem_defeito()\n",
      "File \u001b[1;32mc:\\Users\\leona\\Documents\\ProjetoFinal_LeonardoPacheco_UFRJ_LAVI\\.venv\\lib\\site-packages\\pandas\\core\\frame.py:3805\u001b[0m, in \u001b[0;36mDataFrame.__getitem__\u001b[1;34m(self, key)\u001b[0m\n\u001b[0;32m   3803\u001b[0m \u001b[39mif\u001b[39;00m \u001b[39mself\u001b[39m\u001b[39m.\u001b[39mcolumns\u001b[39m.\u001b[39mnlevels \u001b[39m>\u001b[39m \u001b[39m1\u001b[39m:\n\u001b[0;32m   3804\u001b[0m     \u001b[39mreturn\u001b[39;00m \u001b[39mself\u001b[39m\u001b[39m.\u001b[39m_getitem_multilevel(key)\n\u001b[1;32m-> 3805\u001b[0m indexer \u001b[39m=\u001b[39m \u001b[39mself\u001b[39;49m\u001b[39m.\u001b[39;49mcolumns\u001b[39m.\u001b[39;49mget_loc(key)\n\u001b[0;32m   3806\u001b[0m \u001b[39mif\u001b[39;00m is_integer(indexer):\n\u001b[0;32m   3807\u001b[0m     indexer \u001b[39m=\u001b[39m [indexer]\n",
      "File \u001b[1;32mc:\\Users\\leona\\Documents\\ProjetoFinal_LeonardoPacheco_UFRJ_LAVI\\.venv\\lib\\site-packages\\pandas\\core\\indexes\\base.py:3805\u001b[0m, in \u001b[0;36mIndex.get_loc\u001b[1;34m(self, key, method, tolerance)\u001b[0m\n\u001b[0;32m   3803\u001b[0m     \u001b[39mreturn\u001b[39;00m \u001b[39mself\u001b[39m\u001b[39m.\u001b[39m_engine\u001b[39m.\u001b[39mget_loc(casted_key)\n\u001b[0;32m   3804\u001b[0m \u001b[39mexcept\u001b[39;00m \u001b[39mKeyError\u001b[39;00m \u001b[39mas\u001b[39;00m err:\n\u001b[1;32m-> 3805\u001b[0m     \u001b[39mraise\u001b[39;00m \u001b[39mKeyError\u001b[39;00m(key) \u001b[39mfrom\u001b[39;00m \u001b[39merr\u001b[39;00m\n\u001b[0;32m   3806\u001b[0m \u001b[39mexcept\u001b[39;00m \u001b[39mTypeError\u001b[39;00m:\n\u001b[0;32m   3807\u001b[0m     \u001b[39m# If we have a listlike key, _check_indexing_error will raise\u001b[39;00m\n\u001b[0;32m   3808\u001b[0m     \u001b[39m#  InvalidIndexError. Otherwise we fall through and re-raise\u001b[39;00m\n\u001b[0;32m   3809\u001b[0m     \u001b[39m#  the TypeError.\u001b[39;00m\n\u001b[0;32m   3810\u001b[0m     \u001b[39mself\u001b[39m\u001b[39m.\u001b[39m_check_indexing_error(key)\n",
      "\u001b[1;31mKeyError\u001b[0m: False"
     ]
    }
   ],
   "source": [
    "normalizar_sinal.NormalizarSinal(sinal).Get()\n"
   ]
  },
  {
   "cell_type": "code",
   "execution_count": null,
   "metadata": {},
   "outputs": [],
   "source": [
    "ymin = np.min(np.array(sinal_freq))\n",
    "ymax = np.max(np.array(sinal_freq))\n",
    "\n",
    "xmax = 1\n",
    "xmin = 0\n",
    "\n",
    "sinal_freq = sinal[colunas_freq]\n",
    "sinal_freq_normal = ( (sinal_freq - ymin) / (ymax - ymin) ) * (xmax - xmin) + xmin\n",
    "sinal_freq_normal"
   ]
  },
  {
   "cell_type": "code",
   "execution_count": null,
   "metadata": {},
   "outputs": [],
   "source": [
    "sinal_tempo = sinal_normal[[   'rotacao_hz',\n",
    "                        'maximo','rms',\n",
    "                        'assimetria',\n",
    "                        'curtose',\n",
    "                        'fator_crista'\n",
    "                    ]]\n",
    "sinal_tempo"
   ]
  },
  {
   "cell_type": "code",
   "execution_count": null,
   "metadata": {},
   "outputs": [],
   "source": [
    "scaler = MinMaxScaler()\n",
    "\n",
    "# Aplicando a normalização\n",
    "df_scaled = scaler.fit_transform(sinal_tempo)\n",
    "\n",
    "# Atualizando o DataFrame original\n",
    "sinal_tempo_normal = pd.DataFrame(df_scaled, columns=sinal_tempo.columns)\n",
    "sinal_tempo_normal"
   ]
  },
  {
   "cell_type": "code",
   "execution_count": null,
   "metadata": {},
   "outputs": [],
   "source": [
    "sinal_sensor = sinal_normal[['sensor']]\n",
    "sinal_sensor"
   ]
  },
  {
   "cell_type": "code",
   "execution_count": null,
   "metadata": {},
   "outputs": [],
   "source": [
    "sinal_defeito = sinal_normal[['defeito']]\n",
    "sinal_defeito"
   ]
  },
  {
   "cell_type": "code",
   "execution_count": null,
   "metadata": {},
   "outputs": [],
   "source": [
    "feature = 'soma_outer_race'\n",
    "feature_analisada = sinal[feature]"
   ]
  },
  {
   "cell_type": "code",
   "execution_count": null,
   "metadata": {},
   "outputs": [],
   "source": [
    "plt.plot(range(len(feature_analisada)),feature_analisada)\n",
    "plt.title(feature)\n",
    "plt.show()"
   ]
  },
  {
   "cell_type": "code",
   "execution_count": null,
   "metadata": {},
   "outputs": [],
   "source": [
    "defeito = \"outer_race_alto\"\n",
    "sensor = 'rolamento_externo_radial2'\n",
    "\n",
    "df_defeito = sinal[sinal[\"defeito\"] == defeito]\n",
    "df_defeito = df_defeito[df_defeito[\"sensor\"] == sensor]\n",
    "\n",
    "rotacao = df_defeito['rotacao_hz']\n",
    "feature_analisada = df_defeito[feature]"
   ]
  },
  {
   "cell_type": "code",
   "execution_count": null,
   "metadata": {},
   "outputs": [],
   "source": [
    "plt.plot(range(len(rotacao)),rotacao)\n",
    "plt.title('Rotação [Hz]')\n",
    "plt.show()"
   ]
  }
 ],
 "metadata": {
  "kernelspec": {
   "display_name": ".venv",
   "language": "python",
   "name": "python3"
  },
  "language_info": {
   "codemirror_mode": {
    "name": "ipython",
    "version": 3
   },
   "file_extension": ".py",
   "mimetype": "text/x-python",
   "name": "python",
   "nbconvert_exporter": "python",
   "pygments_lexer": "ipython3",
   "version": "3.10.5"
  },
  "orig_nbformat": 4,
  "vscode": {
   "interpreter": {
    "hash": "7ae7d46be2641d6e2c6d3fb52459160c7ebfdbc26f33f0f4d78b2d35162b5186"
   }
  }
 },
 "nbformat": 4,
 "nbformat_minor": 2
}
