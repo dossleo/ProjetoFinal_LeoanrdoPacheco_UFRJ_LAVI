{
 "cells": [
  {
   "cell_type": "code",
   "execution_count": null,
   "metadata": {},
   "outputs": [
    {
     "ename": "",
     "evalue": "",
     "output_type": "error",
     "traceback": [
      "\u001b[1;31mFalha ao iniciar o Kernel. \n",
      "\u001b[1;31mSyntaxError: invalid syntax. \n",
      "\u001b[1;31mConsulte o <a href='command:jupyter.viewOutput'>log</a> do Jupyter para obter mais detalhes."
     ]
    }
   ],
   "source": [
    "from msilib.schema import SelfReg\n",
    "import matplotlib.pyplot as plt\n",
    "import scipy.io\n",
    "import numpy as np\n",
    "import pandas as pd\n",
    "import os\n",
    "import glob\n",
    "from math import sqrt"
   ]
  },
  {
   "cell_type": "code",
   "execution_count": null,
   "metadata": {},
   "outputs": [],
   "source": [
    "class Time_Features_Extraction():\n",
    "    def __init__(self,path):\n",
    "        #path=r'database\\\\brutos\\\\2nd_test'\n",
    "\n",
    "        self.filename = '2004.02.12.10.32.39'\n",
    "        self.dataset=pd.read_csv(os.path.join(path, self.filename), sep='\\t',header=None)\n",
    "\n",
    "        self.bearing_no = 1\n",
    "        self.bearing_data = np.array(self.dataset.iloc[:,self.bearing_no-1])\n",
    "\n",
    "        #self.feature_matrix=np.zeros((1,9))\n",
    "\n",
    "        self.length = len(self.bearing_data)\n",
    "\n",
    "    def maximum(self):\n",
    "        self.max = np.max(self.bearing_data)\n",
    "        \n",
    "        #self.feature_matrix[0,0] = self.max\n",
    "        return self.max\n",
    "\n",
    "    def minimum(self):\n",
    "        self.min = np.min(self.bearing_data)\n",
    "        \n",
    "        #self.feature_matrix[0,1] = self.min\n",
    "        return self.min\n",
    "\n",
    "    def mean(self):\n",
    "        self.media = np.mean(self.bearing_data)\n",
    "        \n",
    "        #self.feature_matrix[0,2] = self.media\n",
    "        return self.media\n",
    "\n",
    "    def standard_deviation(self):\n",
    "        self.std = np.std(self.bearing_data, ddof = 1)\n",
    "        \n",
    "        #self.feature_matrix[0,3] = self.std\n",
    "        return self.std\n",
    "\n",
    "    def rms(self):\n",
    "        self.rms_value = sqrt(sum(n*n for n in self.bearing_data)/self.length)\n",
    "        \n",
    "        #self.feature_matrix[0,4] = self.rms_value\n",
    "        return self.rms_value \n",
    "\n",
    "    def skewness(self):\n",
    "        self.n = len(self.bearing_data)\n",
    "        self.third_moment = np.sum((self.bearing_data - np.mean(self.bearing_data))**3) / n\n",
    "        self.s_3 = np.std(self.bearing_data, ddof = 1) ** 3\n",
    "        self.skew = self.third_moment/self.s_3\n",
    "\n",
    "        #self.feature_matrix[0,5] = self.skew\n",
    "        return self.skew\n",
    "\n",
    "    def kurtosis(self):\n",
    "        self.n = len(self.bearing_data)\n",
    "        self.fourth_moment = np.sum((self.bearing_data - np.mean(self.bearing_data))**4) / self.n\n",
    "        self.s_4 = np.std(self.bearing_data, ddof = 1) ** 4\n",
    "        self.kurt = self.fourth_moment / self.s_4 - 3\n",
    "\n",
    "        #self.feature_matrix[0,6] = self.kurt\n",
    "        return self.kurt\n",
    "\n",
    "    def crest_factor(self):\n",
    "        self.cf = self.max/self.rms_value\n",
    "\n",
    "        #self.feature_matrix[0,7] = self.cf\n",
    "        return self.cf\n",
    "\n",
    "    def form_factor(self):\n",
    "        self.ff = self.rms_value/self.media\n",
    "\n",
    "        #self.feature_matrix[0,8] = self.ff\n",
    "        return self.ff\n"
   ]
  }
 ],
 "metadata": {
  "kernelspec": {
   "display_name": "Python 3.9.12 ('base')",
   "language": "python",
   "name": "python3"
  },
  "language_info": {
   "codemirror_mode": {
    "name": "ipython",
    "version": 3
   },
   "file_extension": ".py",
   "mimetype": "text/x-python",
   "name": "python",
   "nbconvert_exporter": "python",
   "pygments_lexer": "ipython3",
   "version": "3.9.12"
  },
  "orig_nbformat": 4,
  "vscode": {
   "interpreter": {
    "hash": "8376f32f91404a46bd481ee66244906903f8fdf50c8d6f7982b4190ecf80c879"
   }
  }
 },
 "nbformat": 4,
 "nbformat_minor": 2
}
