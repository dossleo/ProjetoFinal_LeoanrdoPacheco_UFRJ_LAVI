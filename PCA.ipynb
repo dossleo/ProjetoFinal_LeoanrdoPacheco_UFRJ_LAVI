{
 "cells": [
  {
   "cell_type": "code",
   "execution_count": 21,
   "metadata": {},
   "outputs": [],
   "source": [
    "from sklearn.decomposition import PCA\n",
    "import pandas as pd\n",
    "import models\n",
    "\n",
    "# Carregue o seu dataframe em uma variável\n",
    "dados_normalizados = 'Dados_Normalizados.csv'\n",
    "dados_extraidos_geral = 'dados_extraidos_geral.csv'\n",
    "harmonico = 2\n",
    "\n",
    "df = pd.read_csv(f'{models.path_dados_tratados}/harmonicos_{harmonico}/{dados_normalizados}', header=0)\n",
    "df = pd.DataFrame(df)[models.colunas]\n",
    "\n",
    "# Selecione as colunas que você deseja incluir no PCA\n",
    "colunas_pca = ['rotacao_hz', 'maximo', 'rms', 'assimetria', 'curtose', 'soma_cage_fault', 'soma_outer_race', 'soma_inner_race', 'soma_rotacao_hz']\n",
    "df_pca = df[colunas_pca]\n"
   ]
  },
  {
   "cell_type": "code",
   "execution_count": 1,
   "metadata": {},
   "outputs": [
    {
     "ename": "NameError",
     "evalue": "name 'PCA' is not defined",
     "output_type": "error",
     "traceback": [
      "\u001b[1;31m---------------------------------------------------------------------------\u001b[0m",
      "\u001b[1;31mNameError\u001b[0m                                 Traceback (most recent call last)",
      "Cell \u001b[1;32mIn[1], line 5\u001b[0m\n\u001b[0;32m      2\u001b[0m num_comp \u001b[39m=\u001b[39m \u001b[39m5\u001b[39m\n\u001b[0;32m      4\u001b[0m \u001b[39m# Instancie o PCA\u001b[39;00m\n\u001b[1;32m----> 5\u001b[0m pca \u001b[39m=\u001b[39m PCA(n_components\u001b[39m=\u001b[39mnum_comp)\n\u001b[0;32m      7\u001b[0m \u001b[39m# Ajuste o PCA ao seu dataframe\u001b[39;00m\n\u001b[0;32m      8\u001b[0m df_pca \u001b[39m=\u001b[39m df\u001b[39m.\u001b[39mdrop([\u001b[39m'\u001b[39m\u001b[39mdefeito\u001b[39m\u001b[39m'\u001b[39m], axis\u001b[39m=\u001b[39m\u001b[39m1\u001b[39m)\n",
      "\u001b[1;31mNameError\u001b[0m: name 'PCA' is not defined"
     ]
    }
   ],
   "source": [
    "# Defina o número de componentes principais\n",
    "num_comp = 5\n",
    "\n",
    "# Instancie o PCA\n",
    "pca = PCA(n_components=num_comp)\n",
    "\n",
    "# Ajuste o PCA ao seu dataframe\n",
    "df_pca = df.drop(['defeito'], axis=1)\n",
    "pca.fit(df_pca)\n",
    "\n",
    "# Transforme o dataframe original com base nas componentes principais do PCA\n",
    "df_pca_transformado = pca.transform(df_pca)\n",
    "\n",
    "# Crie um novo dataframe com as componentes principais\n",
    "df_pca_resultado = pd.DataFrame(data = df_pca_transformado, columns = [f'PC{i+1}' for i in range(num_comp)])\n",
    "\n",
    "lista_dataframes = [df_pca_resultado,df['defeito']]\n",
    "df = pd.concat(lista_dataframes, axis=1)\n",
    "# Imprima o novo dataframe\n",
    "print(df)\n"
   ]
  },
  {
   "cell_type": "code",
   "execution_count": 23,
   "metadata": {},
   "outputs": [],
   "source": [
    "from sklearn.model_selection import train_test_split\n",
    "from sklearn.tree import DecisionTreeClassifier\n",
    "from sklearn import svm\n",
    "from sklearn.metrics import accuracy_score, confusion_matrix, classification_report\n",
    "\n",
    "import pandas as pd\n",
    "import matplotlib.pyplot as plt\n",
    "import numpy as np\n",
    "\n",
    "import models"
   ]
  },
  {
   "cell_type": "code",
   "execution_count": 24,
   "metadata": {},
   "outputs": [],
   "source": [
    "# Separa as colunas em features e target\n",
    "features = df.drop('defeito', axis=1)\n",
    "target = df['defeito']\n",
    "\n",
    "# Divide os dados em conjuntos de treinamento e teste\n",
    "X_train, X_test, y_train, y_test = train_test_split(features, target, test_size=0.2, random_state=0)"
   ]
  },
  {
   "cell_type": "code",
   "execution_count": 25,
   "metadata": {},
   "outputs": [],
   "source": [
    "# Treina o classificador\n",
    "clf = DecisionTreeClassifier()\n",
    "# clf = svm.SVC()\n",
    "clf.fit(X_train, y_train)\n",
    "\n",
    "# Faz as previsões no conjunto de teste\n",
    "y_pred = clf.predict(X_test)\n"
   ]
  },
  {
   "cell_type": "code",
   "execution_count": 26,
   "metadata": {},
   "outputs": [
    {
     "data": {
      "image/png": "[encoded data removed]",
      "text/plain": [
       "<Figure size 640x480 with 1 Axes>"
      ]
     },
     "metadata": {},
     "output_type": "display_data"
    },
    {
     "name": "stdout",
     "output_type": "stream",
     "text": [
      "A precisão do classificador é: 87.4 %\n",
      "Relatório de classificação:\n",
      "                                  precision    recall  f1-score   support\n",
      "\n",
      "                ball_fault_alto       0.95      0.90      0.92       345\n",
      "               ball_fault_baixo       0.86      0.89      0.87       245\n",
      "               ball_fault_medio       0.92      0.92      0.92       212\n",
      "                cage_fault_alto       0.88      0.91      0.90       421\n",
      "               cage_fault_baixo       0.85      0.91      0.88       231\n",
      "               cage_fault_medio       0.92      0.83      0.87       247\n",
      " desalinhamento_horizontal_alto       0.83      0.90      0.87       123\n",
      "desalinhamento_horizontal_baixo       0.73      0.89      0.80       109\n",
      "desalinhamento_horizontal_médio       0.89      0.83      0.86       246\n",
      "   desalinhamento_vertical_alto       0.85      0.86      0.86       227\n",
      "  desalinhamento_vertical_baixo       0.86      0.94      0.90       218\n",
      "  desalinhamento_vertical_médio       0.86      0.83      0.84       243\n",
      "          desbalanceamento_alto       0.87      0.88      0.87       327\n",
      "         desbalanceamento_baixo       0.87      0.85      0.86       246\n",
      "         desbalanceamento_medio       0.90      0.83      0.87       249\n",
      "                         normal       0.80      0.89      0.84       107\n",
      "                outer_race_alto       0.90      0.87      0.88       417\n",
      "               outer_race_baixo       0.89      0.87      0.88       242\n",
      "               outer_race_medio       0.82      0.84      0.83       228\n",
      "\n",
      "                       accuracy                           0.87      4683\n",
      "                      macro avg       0.87      0.87      0.87      4683\n",
      "                   weighted avg       0.88      0.87      0.87      4683\n",
      "\n"
     ]
    }
   ],
   "source": [
    "# Visualiza a matriz de confusão\n",
    "cm = confusion_matrix(y_test, y_pred)\n",
    "plt.imshow(cm, cmap=plt.cm.Blues)\n",
    "plt.title('Matriz de Confusão')\n",
    "plt.xlabel('Previsão')\n",
    "plt.ylabel('Verdadeiro')\n",
    "plt.xticks(range(len(models.defeitos)-3), range(len(models.defeitos)-3))\n",
    "plt.yticks(range(len(models.defeitos)-3), range(len(models.defeitos)-3))\n",
    "plt.xlim(-0.5,len(models.defeitos)-3.5)\n",
    "plt.ylim(-0.5,len(models.defeitos)-3.5)\n",
    "\n",
    "for i in range(2):\n",
    "    for j in range(2):\n",
    "        plt.text(j, i, cm[i, j], ha='center', va='center', color='red')\n",
    "plt.show()\n",
    "\n",
    "# Imprime as métricas de performance\n",
    "print(\"A precisão do classificador é:\", np.round(100*accuracy_score(y_test, y_pred),1),'%')\n",
    "print(\"Relatório de classificação:\\n\", classification_report(y_test, y_pred))"
   ]
  }
 ],
 "metadata": {
  "kernelspec": {
   "display_name": ".venv",
   "language": "python",
   "name": "python3"
  },
  "language_info": {
   "codemirror_mode": {
    "name": "ipython",
    "version": 3
   },
   "file_extension": ".py",
   "mimetype": "text/x-python",
   "name": "python",
   "nbconvert_exporter": "python",
   "pygments_lexer": "ipython3",
   "version": "3.10.5"
  },
  "orig_nbformat": 4,
  "vscode": {
   "interpreter": {
    "hash": "7ae7d46be2641d6e2c6d3fb52459160c7ebfdbc26f33f0f4d78b2d35162b5186"
   }
  }
 },
 "nbformat": 4,
 "nbformat_minor": 2
}
