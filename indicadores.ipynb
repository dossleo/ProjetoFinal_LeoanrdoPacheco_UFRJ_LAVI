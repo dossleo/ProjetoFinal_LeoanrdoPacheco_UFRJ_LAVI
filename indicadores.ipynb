{
 "cells": [
  {
   "cell_type": "code",
   "execution_count": 1,
   "metadata": {},
   "outputs": [],
   "source": [
    "import models\n",
    "from models import get_raw_data, extrair_indicadores\n",
    "import numpy as np\n",
    "import pandas as pd\n",
    "import os\n",
    "import matplotlib.pyplot as plt"
   ]
  },
  {
   "cell_type": "code",
   "execution_count": 2,
   "metadata": {},
   "outputs": [],
   "source": [
    "pasta = 'database/normal'\n",
    "coluna = 1\n",
    "arquivos = os.listdir(pasta)\n",
    "frequencia_de_referencia = models.frequencias_rolamento\n",
    "dataframe = []\n",
    "ordens_frequencia = 5\n",
    "largura_banda = 2"
   ]
  },
  {
   "cell_type": "code",
   "execution_count": 3,
   "metadata": {},
   "outputs": [],
   "source": [
    "for arquivo in arquivos:\n",
    "    sinal = get_raw_data.GetData(pasta,arquivo,coluna)\n",
    "    sinal = sinal.Get()\n",
    "    Objeto_Extrair = extrair_indicadores.ExtrairIndicadores(pasta,\n",
    "                                                            arquivo,\n",
    "                                                            coluna,\n",
    "                                                            frequencia_de_referencia)\n",
    "\n",
    "    dataframe.append(Objeto_Extrair.Get(ordens_frequencia))\n",
    "\n",
    "dataframe = pd.json_normalize(dataframe)"
   ]
  },
  {
   "cell_type": "code",
   "execution_count": 4,
   "metadata": {},
   "outputs": [
    {
     "name": "stdout",
     "output_type": "stream",
     "text": [
      "0     1256.807806\n",
      "1        0.000000\n",
      "2        0.000000\n",
      "3        0.000000\n",
      "4        0.000000\n",
      "5        0.000000\n",
      "6        0.000000\n",
      "7        0.000000\n",
      "8        0.000000\n",
      "9        0.000000\n",
      "10       0.000000\n",
      "11       0.000000\n",
      "12       0.000000\n",
      "13       0.000000\n",
      "14       0.000000\n",
      "15       0.000000\n",
      "16       0.000000\n",
      "17       0.000000\n",
      "18       0.000000\n",
      "19       0.000000\n",
      "20       0.000000\n",
      "21       0.000000\n",
      "22       0.000000\n",
      "23       0.000000\n",
      "24       0.000000\n",
      "25       0.000000\n",
      "26       0.000000\n",
      "27       0.000000\n",
      "28       0.000000\n",
      "29       0.000000\n",
      "30       0.000000\n",
      "31       0.000000\n",
      "32       0.000000\n",
      "33       0.000000\n",
      "34       0.000000\n",
      "35       0.000000\n",
      "36       0.000000\n",
      "37       0.000000\n",
      "38       0.000000\n",
      "39       0.000000\n",
      "40       0.000000\n",
      "41       0.000000\n",
      "42       0.000000\n",
      "43       0.000000\n",
      "44       0.000000\n",
      "45       0.000000\n",
      "46       0.000000\n",
      "47       0.000000\n",
      "48       0.000000\n",
      "Name: soma_ball_fault, dtype: float64\n"
     ]
    }
   ],
   "source": [
    "print(dataframe['soma_ball_fault'])"
   ]
  }
 ],
 "metadata": {
  "kernelspec": {
   "display_name": ".venv",
   "language": "python",
   "name": "python3"
  },
  "language_info": {
   "codemirror_mode": {
    "name": "ipython",
    "version": 3
   },
   "file_extension": ".py",
   "mimetype": "text/x-python",
   "name": "python",
   "nbconvert_exporter": "python",
   "pygments_lexer": "ipython3",
   "version": "3.10.5"
  },
  "orig_nbformat": 4,
  "vscode": {
   "interpreter": {
    "hash": "7ae7d46be2641d6e2c6d3fb52459160c7ebfdbc26f33f0f4d78b2d35162b5186"
   }
  }
 },
 "nbformat": 4,
 "nbformat_minor": 2
}
