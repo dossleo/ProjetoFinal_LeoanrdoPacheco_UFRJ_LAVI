{
 "cells": [
  {
   "cell_type": "code",
   "execution_count": null,
   "metadata": {},
   "outputs": [],
   "source": [
    "import models\n",
    "from models import get_raw_data, extrair_indicadores, indicadores_frequencia, get_rpm, filtro_passa_baixa\n",
    "import numpy as np\n",
    "import pandas as pd\n",
    "import os\n",
    "import matplotlib.pyplot as plt\n",
    "\n",
    "pasta = 'database/dados_brutos/normal'\n",
    "coluna = 1\n",
    "arquivos = os.listdir(pasta)\n",
    "dataframe = []\n",
    "\n",
    "ball_fault = 1.8710\n",
    "cage_fault = 0.3750\n",
    "outer_race = 2.9980\n",
    "inner_race = 5.0020\n",
    "\n",
    "frequencias_rolamento = [ball_fault,\n",
    "                        cage_fault,\n",
    "                        outer_race\n",
    "                        ,inner_race]\n",
    "\n",
    "for arquivo in arquivos:\n",
    "    freq = [ball_fault,\n",
    "            cage_fault,\n",
    "            outer_race\n",
    "            ,inner_race]\n",
    "            \n",
    "    sinal = get_raw_data.GetData(pasta,arquivo,coluna).Get()\n",
    "    sinal_rpm = get_raw_data.GetData(pasta,arquivo,0).Get()\n",
    "\n",
    "    rpm = get_rpm.GetRPM(sinal_rpm).get_rpm_medio()\n",
    "\n",
    "    for i in range(len(freq)):\n",
    "        freq[i] = freq[i]*rpm\n",
    "    # print(f'rpm {rpm} - frequencias {freq}')\n",
    "    Objeto_Extrair = extrair_indicadores.ExtrairIndicadores(pasta,\n",
    "                                                        arquivo,\n",
    "                                                        1,\n",
    "                                                        freq)\n",
    "                                                    \n",
    "\n",
    "    dataframe.append(Objeto_Extrair.Get())\n",
    "    \n",
    "df = pd.json_normalize(dataframe)\n",
    "\n",
    "print(df)"
   ]
  }
 ],
 "metadata": {
  "kernelspec": {
   "display_name": ".venv",
   "language": "python",
   "name": "python3"
  },
  "language_info": {
   "codemirror_mode": {
    "name": "ipython",
    "version": 3
   },
   "file_extension": ".py",
   "mimetype": "text/x-python",
   "name": "python",
   "nbconvert_exporter": "python",
   "pygments_lexer": "ipython3",
   "version": "3.10.5 (tags/v3.10.5:f377153, Jun  6 2022, 16:14:13) [MSC v.1929 64 bit (AMD64)]"
  },
  "orig_nbformat": 4,
  "vscode": {
   "interpreter": {
    "hash": "7ae7d46be2641d6e2c6d3fb52459160c7ebfdbc26f33f0f4d78b2d35162b5186"
   }
  }
 },
 "nbformat": 4,
 "nbformat_minor": 2
}
